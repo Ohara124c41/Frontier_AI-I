{
  "nbformat": 4,
  "nbformat_minor": 0,
  "metadata": {
    "colab": {
      "provenance": [],
      "include_colab_link": true
    },
    "kernelspec": {
      "name": "python3",
      "display_name": "Python 3"
    },
    "accelerator": "GPU"
  },
  "cells": [
    {
      "cell_type": "markdown",
      "metadata": {
        "id": "view-in-github",
        "colab_type": "text"
      },
      "source": [
        "<a href=\"https://colab.research.google.com/github/Ohara124c41/Frontier_AI-I/blob/main/AutoGrad.ipynb\" target=\"_parent\"><img src=\"https://colab.research.google.com/assets/colab-badge.svg\" alt=\"Open In Colab\"/></a>"
      ]
    },
    {
      "cell_type": "markdown",
      "metadata": {
        "id": "qNy20xIYymg5"
      },
      "source": [
        "# AutoGrad : 自動微分\n",
        "この章ではPyTorchの重要な機能であるAutoGrad（自動微分）について説明します． <br>AutoGradとはtorch.Tensorを利用した計算において，各計算で実行した演算を計算グラフとして保持しておくことで勾配計算を自動化したものです．<br><br>以下に記載したサンプルを実行しながら，理解していきましょう．"
      ]
    },
    {
      "cell_type": "code",
      "source": [
        "from google.colab import drive\n",
        "drive.mount('/content/drive')"
      ],
      "metadata": {
        "colab": {
          "base_uri": "https://localhost:8080/"
        },
        "id": "-8VFA7-RZwRI",
        "outputId": "5e2c5ca3-f6f1-49eb-a1b1-7b9618110e4b"
      },
      "execution_count": 1,
      "outputs": [
        {
          "output_type": "stream",
          "name": "stdout",
          "text": [
            "Mounted at /content/drive\n"
          ]
        }
      ]
    },
    {
      "cell_type": "code",
      "metadata": {
        "id": "0SaX_QvfykpL"
      },
      "source": [
        "import torch\n",
        "import numpy as np"
      ],
      "execution_count": 2,
      "outputs": []
    },
    {
      "cell_type": "markdown",
      "metadata": {
        "id": "Q4VY57YUyjCu"
      },
      "source": [
        "PyTorchとNumPyをimportします．"
      ]
    },
    {
      "cell_type": "markdown",
      "metadata": {
        "id": "_o7VgQz-0i9W"
      },
      "source": [
        "## torch.Tensor\n",
        "torch.TensorはPyTorchパッケージの中心的なクラスです．<br>\n",
        "基本的にはnumpyのndarrayと似た足し算や掛け算，ドット積などが計算できる行列のようなものだと考えて大丈夫です．<br>\n",
        "ただnumpyのndarrayと大きく違う点があり，`.requires_grad=True`としておくと，各演算が実行されるごとに勾配計算用の計算グラフを保持し，`.backward()`を実行すると自動で勾配を計算してくれます．"
      ]
    },
    {
      "cell_type": "markdown",
      "metadata": {
        "id": "zR-Lpx9F2Qro"
      },
      "source": [
        "tensorを作成してそれに伴う計算を追跡し勾配を計算するために`requires_grad=True`を設定します．"
      ]
    },
    {
      "cell_type": "code",
      "metadata": {
        "id": "RCIr3Evg0Hae",
        "colab": {
          "base_uri": "https://localhost:8080/"
        },
        "outputId": "63a60f30-64a7-4cf5-bb69-1671f8863970"
      },
      "source": [
        "# 値は全て1を代入された，2×2の行列を作成\n",
        "x = torch.ones(2, 2, requires_grad=True)\n",
        "print(x)\n",
        "\n",
        "# リストからtorch.Tensorへの変換\n",
        "x = torch.tensor([[1., 1], \n",
        "                  [1, 1]], requires_grad=True)\n",
        "print(x)"
      ],
      "execution_count": 3,
      "outputs": [
        {
          "output_type": "stream",
          "name": "stdout",
          "text": [
            "tensor([[1., 1.],\n",
            "        [1., 1.]], requires_grad=True)\n",
            "tensor([[1., 1.],\n",
            "        [1., 1.]], requires_grad=True)\n"
          ]
        }
      ]
    },
    {
      "cell_type": "markdown",
      "metadata": {
        "id": "O6E3XZ9W3FpR"
      },
      "source": [
        "`torch.from_numpy()`によってnumpy.ndarrayからtorch.Tensorに変換することができます．<br>\n",
        "defaultではrequires_gradはFalseに設定されているので，勾配を計算したいときは`requires_grad=True`に設定し直す必要があります．<br>\n",
        "注意点としてint型では勾配計算ができないのでintで定義していてもfloatに変える必要があります．"
      ]
    },
    {
      "cell_type": "code",
      "metadata": {
        "id": "NU4kaoyr0gAn",
        "colab": {
          "base_uri": "https://localhost:8080/"
        },
        "outputId": "e5848220-fd03-42b7-d454-0262990f10bc"
      },
      "source": [
        "# np.arrayで2×2の行列を作成(dtypeでfloat型を指定)\n",
        "x = np.array([[1, 1],\n",
        "                 [1, 1]], dtype=float)\n",
        "print('numpy.ndarray : \\n', x)\n",
        "\n",
        "# numpy.ndarrayからtorch.Tensorに変換\n",
        "x = torch.from_numpy(x)\n",
        "print('torch.Tensor : \\n', x)\n",
        "\n",
        "# x.requires_gradはdefaultでFalse\n",
        "print(x.requires_grad)\n",
        "\n",
        "# 勾配計算を行いたい場合，requires_gradをTrueに設定する\n",
        "x.requires_grad=True\n",
        "print(x.requires_grad)"
      ],
      "execution_count": 4,
      "outputs": [
        {
          "output_type": "stream",
          "name": "stdout",
          "text": [
            "numpy.ndarray : \n",
            " [[1. 1.]\n",
            " [1. 1.]]\n",
            "torch.Tensor : \n",
            " tensor([[1., 1.],\n",
            "        [1., 1.]], dtype=torch.float64)\n",
            "False\n",
            "True\n"
          ]
        }
      ]
    },
    {
      "cell_type": "markdown",
      "metadata": {
        "id": "lvVLrD7B6mUX"
      },
      "source": [
        "実際にrequires_gradをTrueに設定したtensorでの演算を行います.<br>\n",
        "grad_fnはyがどういった演算によって作成されたかを示しており，これによって計算を追跡，勾配の計算を可能にします．"
      ]
    },
    {
      "cell_type": "code",
      "metadata": {
        "id": "LIFUfN0o2x2t",
        "colab": {
          "base_uri": "https://localhost:8080/"
        },
        "outputId": "516be4f7-9d5f-49c7-c944-4e1ac68f4081"
      },
      "source": [
        "y = x + 2\n",
        "print(y)\n",
        "\n",
        "y = x - 1\n",
        "print(y)\n",
        "\n",
        "y = x * 2\n",
        "print(y)\n",
        "\n",
        "y = x / 2\n",
        "print(y)"
      ],
      "execution_count": 5,
      "outputs": [
        {
          "output_type": "stream",
          "name": "stdout",
          "text": [
            "tensor([[3., 3.],\n",
            "        [3., 3.]], dtype=torch.float64, grad_fn=<AddBackward0>)\n",
            "tensor([[0., 0.],\n",
            "        [0., 0.]], dtype=torch.float64, grad_fn=<SubBackward0>)\n",
            "tensor([[2., 2.],\n",
            "        [2., 2.]], dtype=torch.float64, grad_fn=<MulBackward0>)\n",
            "tensor([[0.5000, 0.5000],\n",
            "        [0.5000, 0.5000]], dtype=torch.float64, grad_fn=<DivBackward0>)\n"
          ]
        }
      ]
    },
    {
      "cell_type": "markdown",
      "metadata": {
        "id": "JW64XZpY7cSz"
      },
      "source": [
        "## 勾配計算\n",
        "次は勾配の計算方法を説明します．<br>"
      ]
    },
    {
      "cell_type": "code",
      "metadata": {
        "id": "RfikyGkU6tFC",
        "colab": {
          "base_uri": "https://localhost:8080/"
        },
        "outputId": "62fe39ad-3853-4177-a822-7ce4122f0545"
      },
      "source": [
        "y = x + 2\n",
        "z = y*y*3\n",
        "out = z.mean()\n",
        "\n",
        "print(z, out)"
      ],
      "execution_count": 6,
      "outputs": [
        {
          "output_type": "stream",
          "name": "stdout",
          "text": [
            "tensor([[27., 27.],\n",
            "        [27., 27.]], dtype=torch.float64, grad_fn=<MulBackward0>) tensor(27., dtype=torch.float64, grad_fn=<MeanBackward0>)\n"
          ]
        }
      ]
    },
    {
      "cell_type": "markdown",
      "metadata": {
        "id": "fqBg1HvXIsFu"
      },
      "source": [
        "`.backward()`は基本的に単一のスカラーに対して利用可能です．<br>\n",
        "ベクトルに利用する際は引数gradientに同じ要素数のベクトルを入力する必要があります．"
      ]
    },
    {
      "cell_type": "code",
      "metadata": {
        "id": "L1JUa6dxIiF_",
        "colab": {
          "base_uri": "https://localhost:8080/"
        },
        "outputId": "7e122ad1-48ef-4aa9-dd3b-1d7de9de1af5"
      },
      "source": [
        "# 勾配計算\n",
        "out.backward()\n",
        "print(x.grad)"
      ],
      "execution_count": 7,
      "outputs": [
        {
          "output_type": "stream",
          "name": "stdout",
          "text": [
            "tensor([[4.5000, 4.5000],\n",
            "        [4.5000, 4.5000]], dtype=torch.float64)\n"
          ]
        }
      ]
    },
    {
      "cell_type": "markdown",
      "metadata": {
        "id": "_U-lr-MNOKvy"
      },
      "source": [
        "手計算でこの結果を確認してみます．<br>\n",
        "out Tensorを$o$とするとき，$o = \\frac{1}{4} \\sum_i z_i, z_i = 3(x_i + 2)^2$となっており，$z_i|_{x_i = 1}=27$となります．<br>\n",
        "$o$を行列の各要素$x_i$で偏微分すると$\\frac{\\partial o}{\\partial x_i} = \\frac{3}{2}(x_i + 2)$となり$\\frac{\\partial o}{\\partial x_i} | _{x_i=1} = \\frac{9}{2} = 4.5$となることから，自動微分が上手く行っていることがわかります． "
      ]
    },
    {
      "cell_type": "markdown",
      "metadata": {
        "id": "APBFJmZ5vmW7"
      },
      "source": [
        "また`.backward(retain_graph=True)`を複数回続けて行うと勾配の値は加算されていきます．<br>\n",
        "従って通常の学習においては勾配の値をリセットする処理を挟みます．"
      ]
    },
    {
      "cell_type": "code",
      "metadata": {
        "id": "bKObiVVVvcvq",
        "colab": {
          "base_uri": "https://localhost:8080/"
        },
        "outputId": "d169bb8b-c004-48be-cae1-b8a820c860dd"
      },
      "source": [
        "y = x + 2\n",
        "z = y*y*3\n",
        "out = z.mean()\n",
        "out.backward(retain_graph=True)\n",
        "print(x.grad)\n",
        "out.backward(retain_graph=True)\n",
        "print(x.grad)\n",
        "out.backward(retain_graph=True)\n",
        "print(x.grad)"
      ],
      "execution_count": 8,
      "outputs": [
        {
          "output_type": "stream",
          "name": "stdout",
          "text": [
            "tensor([[9., 9.],\n",
            "        [9., 9.]], dtype=torch.float64)\n",
            "tensor([[13.5000, 13.5000],\n",
            "        [13.5000, 13.5000]], dtype=torch.float64)\n",
            "tensor([[18., 18.],\n",
            "        [18., 18.]], dtype=torch.float64)\n"
          ]
        }
      ]
    },
    {
      "cell_type": "markdown",
      "metadata": {
        "id": "3Tlo4bV2DuzH"
      },
      "source": [
        "`with torch.no_grad():`ブロック内では勾配計算が行われないため，ネットワークの評価時に利用されます."
      ]
    },
    {
      "cell_type": "code",
      "metadata": {
        "id": "edjmxS5vN9iF",
        "colab": {
          "base_uri": "https://localhost:8080/"
        },
        "outputId": "018739e4-20aa-4f46-eab4-98ef874a47f9"
      },
      "source": [
        "print('x : ', x.requires_grad)\n",
        "print('x**2 : ', (x**2).requires_grad)\n",
        "\n",
        "with torch.no_grad():\n",
        "  print('with torch.no_gradをつけたx**2 : ', (x**2).requires_grad)\n",
        "  "
      ],
      "execution_count": 9,
      "outputs": [
        {
          "output_type": "stream",
          "name": "stdout",
          "text": [
            "x :  True\n",
            "x**2 :  True\n",
            "with torch.no_gradをつけたx**2 :  False\n"
          ]
        }
      ]
    },
    {
      "cell_type": "markdown",
      "metadata": {
        "id": "rUJFK0yJK9Ap"
      },
      "source": [
        "# 課題\n",
        "前回のWhat is PyTorchで実装した平均二乗誤差関数を再利用します.<br>\n",
        "NumPyのndarrayの形でxとyが入力として与えられた時，平均二乗誤差を計算し，その入力に対する勾配を出力する関数を実装してください．\n",
        "\n"
      ]
    },
    {
      "cell_type": "code",
      "metadata": {
        "id": "Mf8Pwp7nEKc0"
      },
      "source": [
        "def MSE(x, y):\n",
        "  # TODO\n",
        "  x = torch.tensor(x).cuda()\n",
        "  y = torch.tensor(y).cuda()\n",
        "  x.requires_grad = True\n",
        "  y.requires_grad = True\n",
        "  z = torch.mean(torch.sum((x-y)**2, dim=1))\n",
        "  z.backward()\n",
        "  return x.grad, y.grad"
      ],
      "execution_count": 13,
      "outputs": []
    },
    {
      "cell_type": "code",
      "metadata": {
        "id": "Tt2f7qI3-Wiz"
      },
      "source": [
        "from google.colab import drive # driveを接続\n",
        "drive.mount('/content/gdrive')"
      ],
      "execution_count": null,
      "outputs": []
    },
    {
      "cell_type": "code",
      "metadata": {
        "id": "-aRtE0Pe-buj",
        "colab": {
          "base_uri": "https://localhost:8080/"
        },
        "outputId": "d357e5ea-4304-42b0-a6f9-7449d8b9c216"
      },
      "source": [
        "# drive中の課題ファイルのあるディレクトリに移動\n",
        "%cd /content/drive/MyDrive/__FrontierAI-I/FAI20230606/data\n",
        "from pytorchtest import *"
      ],
      "execution_count": 10,
      "outputs": [
        {
          "output_type": "stream",
          "name": "stdout",
          "text": [
            "/content/drive/MyDrive/__FrontierAI-I/FAI20230606/data\n"
          ]
        }
      ]
    },
    {
      "cell_type": "code",
      "metadata": {
        "id": "epafU9IhLZ92",
        "colab": {
          "base_uri": "https://localhost:8080/"
        },
        "outputId": "619ca733-e428-4996-c232-17e56fb4f87b"
      },
      "source": [
        "test_MSE_grad(MSE)"
      ],
      "execution_count": 14,
      "outputs": [
        {
          "output_type": "stream",
          "name": "stdout",
          "text": [
            "OK\n"
          ]
        }
      ]
    }
  ]
}