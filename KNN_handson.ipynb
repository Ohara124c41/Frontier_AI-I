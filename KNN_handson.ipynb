{
  "cells": [
    {
      "cell_type": "markdown",
      "metadata": {
        "id": "view-in-github",
        "colab_type": "text"
      },
      "source": [
        "<a href=\"https://colab.research.google.com/github/Ohara124c41/Frontier_AI-I/blob/main/KNN_handson.ipynb\" target=\"_parent\"><img src=\"https://colab.research.google.com/assets/colab-badge.svg\" alt=\"Open In Colab\"/></a>"
      ]
    },
    {
      "cell_type": "markdown",
      "metadata": {
        "id": "EvABtq0lb4yW"
      },
      "source": [
        "## k近傍法　(k-nearest neighbor algorithm, k-NN)\n",
        "入力パターンに近いk個の学習パターンを取り上げ，最も多数を占めたカテゴリを入力パターンのカテゴリとする．\n",
        "<br />\n",
        "<br />\n",
        "アルゴリズム：\n",
        "1. 入力パターンと全ての学習パターンとの距離を計算する．\n",
        "2.  距離の昇順に学習パターンをソートする．\n",
        "3.  ソートした学習パターンの上位k個を取り上げ，最も出現回数の多いカテゴリを出力する．\n",
        "<br />\n",
        "<br />\n",
        "\n",
        "<img src=\"http://drive.google.com/uc?export=view&id=1LBVmnghUEy2pLYIBl8M0utWUflh5hB9t\" width=500 />"
      ]
    },
    {
      "cell_type": "markdown",
      "metadata": {
        "id": "XUS1VS0ob4yZ"
      },
      "source": [
        "##  目次\n",
        "- [目標](#目標)\n",
        "- [下準備](#下準備)\n",
        "- [距離関数の実装](#距離関数の実装)\n",
        "- [k近傍法の実装](#k近傍法の実装)\n",
        "- [k近傍法の実行](#k近傍法の実行)"
      ]
    },
    {
      "cell_type": "markdown",
      "metadata": {
        "id": "dC-Aie48b4ya"
      },
      "source": [
        "<a name=\"目標\"></a>\n",
        "### 目標\n",
        "- k近傍法で用いる距離関数を実装する．\n",
        "    - [課題1： コサイン距離の実装](#コサイン距離)\n",
        "    - [課題2： ユークリッド距離の実装](#ユークリッド距離)\n",
        "- k近傍法のアルゴリズム全体を実装する．\n",
        "    - [課題3： k近傍法の実装](#k近傍法)\n",
        "- MNISTデータと二種類の距離関数を用いてk近傍法を実行する．"
      ]
    },
    {
      "cell_type": "markdown",
      "metadata": {
        "id": "FdQN3ZpQb4yb"
      },
      "source": [
        "<a name=\"下準備\"></a>\n",
        "### 下準備\n"
      ]
    },
    {
      "cell_type": "markdown",
      "metadata": {
        "id": "X7VGqMkHb4yb"
      },
      "source": [
        "#### ライブラリのインポート"
      ]
    },
    {
      "cell_type": "code",
      "execution_count": 1,
      "metadata": {
        "id": "xSBOTQYCb4yc"
      },
      "outputs": [],
      "source": [
        "import numpy as np\n",
        "import matplotlib.pyplot as plt\n",
        "from matplotlib import cm\n",
        "from sklearn.datasets import fetch_openml\n",
        "from sklearn.model_selection import train_test_split\n",
        "from sklearn.metrics import f1_score, accuracy_score\n",
        "from __future__ import print_function"
      ]
    },
    {
      "cell_type": "code",
      "execution_count": 2,
      "metadata": {
        "id": "YVRyrC9A65q5",
        "colab": {
          "base_uri": "https://localhost:8080/"
        },
        "outputId": "f369cd72-aaf4-45da-d0cf-9ee1c9d8a00a"
      },
      "outputs": [
        {
          "output_type": "stream",
          "name": "stdout",
          "text": [
            "Mounted at /content/gdrive\n"
          ]
        }
      ],
      "source": [
        "from google.colab import drive # driveを接続\n",
        "drive.mount('/content/gdrive')"
      ]
    },
    {
      "cell_type": "code",
      "execution_count": 4,
      "metadata": {
        "id": "QWsgSmzD7OrZ",
        "colab": {
          "base_uri": "https://localhost:8080/"
        },
        "outputId": "f6f5628b-d3b4-4793-ef16-001603871ee8"
      },
      "outputs": [
        {
          "output_type": "stream",
          "name": "stdout",
          "text": [
            "/content/gdrive/MyDrive/__FrontierAI-I/handson20230509/handson20230509\n"
          ]
        }
      ],
      "source": [
        "# drive中の課題ファイルのあるフォルダへ移動\n",
        "%cd /content/gdrive/MyDrive/__FrontierAI-I/handson20230509/handson20230509\n",
        "from test_knn import *"
      ]
    },
    {
      "cell_type": "markdown",
      "metadata": {
        "id": "izGvOIyob4yl"
      },
      "source": [
        "#### MNISTデータの読み込み\n"
      ]
    },
    {
      "cell_type": "markdown",
      "metadata": {
        "id": "jdV9MWXkxIaB"
      },
      "source": [
        "\n",
        "- データをダウンロードする．一度ダウンロードすると，その後はデータを参照して読み込んでくれるので，毎回ダウンロードしなくても良くなる．\n",
        "- X：画像データ(各画像784次元）， Y：ラベル\n",
        "- mnistのデータは，0~255のint型で表されているが，これを**255で割って正規化**する．"
      ]
    },
    {
      "cell_type": "code",
      "execution_count": 5,
      "metadata": {
        "id": "TyRvRLSPb4yl",
        "colab": {
          "base_uri": "https://localhost:8080/"
        },
        "outputId": "36412ba9-d2a6-4bf4-b4ce-93699f34e260"
      },
      "outputs": [
        {
          "output_type": "stream",
          "name": "stderr",
          "text": [
            "/usr/local/lib/python3.10/dist-packages/sklearn/datasets/_openml.py:968: FutureWarning: The default value of `parser` will change from `'liac-arff'` to `'auto'` in 1.4. You can set `parser='auto'` to silence this warning. Therefore, an `ImportError` will be raised from 1.4 if the dataset is dense and pandas is not installed. Note that the pandas parser may return different data types. See the Notes Section in fetch_openml's API doc for details.\n",
            "  warn(\n"
          ]
        },
        {
          "output_type": "stream",
          "name": "stdout",
          "text": [
            "X.shape: (70000, 784) , Y.shape: (70000,)\n"
          ]
        }
      ],
      "source": [
        "X, Y = fetch_openml('mnist_784', version=1, data_home=\"./data/\", return_X_y=True)\n",
        "X = np.array(X/255.0, dtype=np.float32)\n",
        "Y = np.array(Y, dtype=np.uint8)\n",
        "# class数\n",
        "class_num = 10\n",
        "print(\"X.shape: \" + str(X.shape), \", Y.shape: \" + str(Y.shape))"
      ]
    },
    {
      "cell_type": "markdown",
      "metadata": {
        "id": "E3XdIcjib4yq"
      },
      "source": [
        "#### データセットの可視化"
      ]
    },
    {
      "cell_type": "code",
      "execution_count": 6,
      "metadata": {
        "id": "GXKlv1a_b4yr",
        "colab": {
          "base_uri": "https://localhost:8080/",
          "height": 324
        },
        "outputId": "dda2f587-4ce7-4c46-a001-34a7adb4982f"
      },
      "outputs": [
        {
          "output_type": "display_data",
          "data": {
            "text/plain": [
              "<Figure size 640x480 with 10 Axes>"
            ],
            "image/png": "[encoded data removed]"
          },
          "metadata": {}
        }
      ],
      "source": [
        "for i in range(class_num):\n",
        "    plt.subplot(2, 5, i + 1)\n",
        "    plt.imshow(X[i * 6500].reshape(28, 28), cmap='gray_r')\n",
        "    plt.axis(\"off\")"
      ]
    },
    {
      "cell_type": "markdown",
      "metadata": {
        "id": "xZ91r2b0b4yu"
      },
      "source": [
        "#### データセットの削減\n",
        "距離の計算にかなり時間がかかるためデータセットを70000から3000に削減する"
      ]
    },
    {
      "cell_type": "code",
      "execution_count": 7,
      "metadata": {
        "id": "kP6Vy7tob4yw"
      },
      "outputs": [],
      "source": [
        "np.random.seed(100)\n",
        "random_sample = np.arange(len(X))\n",
        "np.random.shuffle(random_sample)\n",
        "X = X[random_sample[:3000]]\n",
        "Y = Y[random_sample[:3000]]"
      ]
    },
    {
      "cell_type": "markdown",
      "metadata": {
        "id": "GVm-PAAib4yy"
      },
      "source": [
        "#### 学習用・検証用・テスト用データの分割\n",
        "- 学習用データ(train_x, train_y)：入力パターンのラベルを決定するために用いるデータ\n",
        "- 検証用データ(val_x, val_y)：最適なハイパーパラメータ（k）を算出するためのデータ\n",
        "- テスト用データ(test_x, test_y)：検証用データを用いて算出されたハイパーパラメータを用いて手法の性能をテストするためのデータ"
      ]
    },
    {
      "cell_type": "code",
      "execution_count": 8,
      "metadata": {
        "id": "PxJqE3K5b4yy"
      },
      "outputs": [],
      "source": [
        "#テスト用データを分ける\n",
        "train_X, test_x, train_Y, test_y = train_test_split(X, Y, test_size=0.2, random_state=2)\n",
        "#学習用データと検証用データを分ける\n",
        "train_x, val_x, train_y, val_y = train_test_split(train_X, train_Y, test_size=0.1, random_state=42)"
      ]
    },
    {
      "cell_type": "code",
      "execution_count": 9,
      "metadata": {
        "id": "LX10CdZAb4y1",
        "colab": {
          "base_uri": "https://localhost:8080/"
        },
        "outputId": "b16821a3-5706-4e04-a395-f4e2e6c351b6"
      },
      "outputs": [
        {
          "output_type": "stream",
          "name": "stdout",
          "text": [
            "train data: (2160, 784) , train label: (2160,)\n",
            "val data:    (240, 784) ,    val label:    (240,)\n",
            "test data:  (600, 784) ,   test label:  (600,)\n"
          ]
        }
      ],
      "source": [
        "print('train data:',train_x.shape,', train label:',train_y.shape)\n",
        "print('val data:   ',val_x.shape,',    val label:   ',val_y.shape)\n",
        "print('test data: ',test_x.shape,',   test label: ',test_y.shape)"
      ]
    },
    {
      "cell_type": "markdown",
      "metadata": {
        "id": "QjgM-Klib4y5"
      },
      "source": [
        "### 距離関数の実装\n",
        "<a name=\"距離関数の実装\"></a>"
      ]
    },
    {
      "cell_type": "markdown",
      "metadata": {
        "id": "xDRbFTtXb4y6"
      },
      "source": [
        "<a name=\"コサイン距離\"></a>\n",
        "<h4><font color=\"Orange\">\n",
        "課題1：コサイン距離の実装\n",
        "</h4>\n",
        "</font>\n",
        "\n",
        "- 関数：cosine_distance\n",
        " \n",
        "  - 入力：$\\boldsymbol{X}=(\\boldsymbol{x}_1,\\boldsymbol{x}_2,\\cdots,\\boldsymbol{x}_{N})^{T}\\in\\mathbb{R}^{N\\times D},　\\boldsymbol{Y}=(\\boldsymbol{y}_1,\\boldsymbol{y}_2,\\cdots,\\boldsymbol{y}_{M})^{T}\\in\\mathbb{R}^{M\\times D}$\n",
        "      \n",
        "  - 出力：$\\boldsymbol{Z}\\in\\mathbb{R}^{N\\times M},　z_{nm}=\\cos(\\boldsymbol{x}_n,\\boldsymbol{y}_m)$\n",
        "    \n",
        "    \n",
        "\n",
        "- コサイン距離 :\n",
        "$$ \n",
        "\\cos(\\boldsymbol{x},\\boldsymbol{y}) = 1- \\frac{\\boldsymbol{x}\\boldsymbol{y}}{|\\boldsymbol{x}||\\boldsymbol{y}|}\\\\\n",
        "$$"
      ]
    },
    {
      "cell_type": "markdown",
      "metadata": {
        "id": "ulHo2Em5b4y6"
      },
      "source": [
        "<details>\n",
        "<summary>\n",
        "課題1：ヒント\n",
        "</summary>\n",
        "<ol>\n",
        "    <li>\n",
        "    \n",
        "Zの初期化（Xの要素数$\\times$Yの要素数）\n",
        "    <ul> \n",
        "        <li>要素が0の配列を生成：`np.zeros(shape)`</li>\n",
        "        <li>Xの要素数：`X.shape[0]`</li>\n",
        "    </ul></li>\n",
        "    <li>Z[n][m]にX[n]とY[m]のコサイン距離を代入\n",
        "    <ul>\n",
        "    <li>ベクトルX[n]のノルム計算：`np.linalg.norm(X[n])`</li>\n",
        "    <li>ベクトルX[n]とY[m]の内積：`np.dot(X[n], Y[m])`</li>\n",
        "    </ul></li>\n",
        "    </ol>\n",
        "</details>"
      ]
    },
    {
      "cell_type": "code",
      "execution_count": 32,
      "metadata": {
        "id": "-PEg6D1Eb4y7"
      },
      "outputs": [],
      "source": [
        "def cosine_distance(X, Y):\n",
        "        Z = np.zeros((X.shape[0], Y.shape[0]))\n",
        "        for n in range(X.shape[0]):\n",
        "          for m in range(Y.shape[0]):\n",
        "            Z[n][m] = 1 - np.dot(X[n], Y[m]) / np.linalg.norm(X[n]) / np.linalg.norm( Y[m])\n",
        "        return Z"
      ]
    },
    {
      "cell_type": "markdown",
      "metadata": {
        "id": "N2ewUjSEb4y9"
      },
      "source": [
        "#### 課題1のテスト\n",
        "OKが表示されたら次に進む"
      ]
    },
    {
      "cell_type": "code",
      "execution_count": 34,
      "metadata": {
        "id": "0Yas7sw0b4y-",
        "colab": {
          "base_uri": "https://localhost:8080/"
        },
        "outputId": "81fc04de-a4b8-42f6-ecce-b2ff0fdbd9b7"
      },
      "outputs": [
        {
          "output_type": "stream",
          "name": "stdout",
          "text": [
            "OK\n"
          ]
        }
      ],
      "source": [
        "test_cosine(cosine_distance)"
      ]
    },
    {
      "cell_type": "markdown",
      "metadata": {
        "id": "pE16zhWyC5yA"
      },
      "source": [
        "<a name=\"ユークリッド距離\"></a>\n",
        "<h4><font color=\"Orange\">\n",
        "課題2：ユークリッド距離の実装\n",
        "</h4>\n",
        "</font>\n",
        "\n",
        "- 関数：euclidian_distance\n",
        "  - 入力：$\\boldsymbol{X}=(\\boldsymbol{x}_1,\\boldsymbol{x}_2,\\cdots,\\boldsymbol{x}_{N})^{T}\\in\\mathbb{R}^{N\\times D},　\\boldsymbol{Y}=(\\boldsymbol{y}_1,\\boldsymbol{y}_2,\\cdots,\\boldsymbol{y}_{M})^{T}\\in\\mathbb{R}^{M\\times D}$\n",
        "  \n",
        "  - 出力：$\\boldsymbol{Z}\\in\\mathbb{R}^{N\\times M},　z_{nm}=d(\\boldsymbol{x}_n,\\boldsymbol{y}_m)$\n",
        "\n",
        "- ユークリッド距離 :\n",
        "$$ d(x,y)=\\sqrt{(x_1-y_1)^2+(x_2-y_2)^2+\\cdots(x_D-y_D)^2} $$"
      ]
    },
    {
      "cell_type": "markdown",
      "metadata": {
        "id": "f95yu_Ohb4zC"
      },
      "source": [
        "<details>\n",
        "<summary>\n",
        "課題2：ヒント\n",
        "</summary>\n",
        "<ol>\n",
        "    <li>\n",
        "    \n",
        "Zの初期化（Xの要素数×Yの要素数）\n",
        "    <ul> \n",
        "        <li>要素が0の配列を生成：`np.zeros(shape)`</li>\n",
        "        <li>Xの要素数：`X.shape[0]`</li>\n",
        "    </ul></li>\n",
        "    <li>Z[n][m]にX[n]とY[m]のユークリッド距離を代入\n",
        "    <ul>\n",
        "    <li>ベクトルのノルム計算：`np.linalg.norm(X[n])`</li>\n",
        "    </ul></li>\n",
        "    </ol>\n",
        "</details>"
      ]
    },
    {
      "cell_type": "code",
      "execution_count": 30,
      "metadata": {
        "id": "JNKgxkUGb4zD"
      },
      "outputs": [],
      "source": [
        "def euclidean_distance(X, Y):\n",
        "        Z = np.zeros((X.shape[0], Y.shape[0]))\n",
        "        for n in range(X.shape[0]):\n",
        "          for m in range(Y.shape[0]):\n",
        "            Z[n][m] = np.linalg.norm(X[n]-Y[m])\n",
        "        return Z"
      ]
    },
    {
      "cell_type": "markdown",
      "metadata": {
        "id": "caOZYwu4b4zG"
      },
      "source": [
        "#### 課題2のテスト\n",
        "OKが表示されたら次に進む"
      ]
    },
    {
      "cell_type": "code",
      "execution_count": 35,
      "metadata": {
        "id": "-8x30Yk1b4zH",
        "colab": {
          "base_uri": "https://localhost:8080/"
        },
        "outputId": "98b18682-1f4e-4ae0-e602-bceab9fe13a5"
      },
      "outputs": [
        {
          "output_type": "stream",
          "name": "stdout",
          "text": [
            "OK\n"
          ]
        }
      ],
      "source": [
        "test_euclidean(euclidean_distance)"
      ]
    },
    {
      "cell_type": "markdown",
      "metadata": {
        "id": "6fWgy41tb4zK"
      },
      "source": [
        "<a name=\"k近傍法の実装\"></a>\n",
        "### k近傍法の実装"
      ]
    },
    {
      "cell_type": "markdown",
      "metadata": {
        "id": "ILq09L61C5yK"
      },
      "source": [
        "<a name=\"k近傍法\"></a>\n",
        "<h4><font color=\"Orange\">\n",
        "課題3：k近傍法の実装\n",
        "</h4>\n",
        "</font>\n",
        "\n",
        "- 関数：KNN.prediction\n",
        "  - 入力：\n",
        "    - 入力パターン：\n",
        "  $\\boldsymbol{X}=(\\boldsymbol{x}_1,\\boldsymbol{x}_2,\\cdots,\\boldsymbol{x}_N)^T\\in\\mathbb{R}^{N\\times D}$\n",
        "    - k近傍法のk: $k$\n",
        "  - 出力：\n",
        "    - 入力パターンの予測ラベル：\n",
        "  $\\boldsymbol{Y}=(y_1,y_2,\\cdots,y_N)\\in\\mathbb{R}^{N}$\n",
        "  - インスタンス変数\n",
        "    - 学習データ：self.train_x\n",
        "    - 学習ラベル：self.train_y\n",
        "    - 距離関数：distance_func()\n",
        "    "
      ]
    },
    {
      "cell_type": "markdown",
      "metadata": {
        "id": "ajfWsg4dC5yL"
      },
      "source": [
        "<details>\n",
        "<summary>\n",
        "課題3：ヒント1（入力パターンXと全ての学習パターンself.train_xとの距離を計算する）\n",
        "</summary>\n",
        "<ul>\n",
        "        <li>\n",
        "        \n",
        "`distance_matrix = self.distance_func(X, self.train_x)`<br>\n",
        "            <img src=\"https://drive.google.com/uc?export=download&id=16uPwCC1eCXweQEMh1YfqUUf4uw17n-Wm\" width=\"360\" height=\"280\"></li>\n",
        "</ul>\n",
        "</details>"
      ]
    },
    {
      "cell_type": "markdown",
      "metadata": {
        "id": "PTR13EvvC5yN"
      },
      "source": [
        "<details>\n",
        "<summary>\n",
        "課題3：ヒント2（距離の昇順に学習パターンをソートする）\n",
        "</summary>\n",
        "    <ul>\n",
        "    <li>\n",
        "    \n",
        "`sort_index = np.argsort(distance_matrix, axis = 1)`<br>\n",
        "    <img src=\"https://drive.google.com/uc?export=download&id=1vEbZ-JVtGw9flDAH2D78NMDMkKb7i08-\" width=\"600\" height=\"300\"></li>\n",
        "   </ul>"
      ]
    },
    {
      "cell_type": "markdown",
      "metadata": {
        "id": "XiTKSWn2C5yO"
      },
      "source": [
        "<details>\n",
        "<summary>\n",
        "課題3：ヒント3（ソートした学習パターンの上位k個を取り上げ，最も出現回数の多いカテゴリを出力する ）\n",
        "</summary>\n",
        "<ul>\n",
        "    <li>\n",
        "    \n",
        "上位k個のインデックスを取り出す：`nearest_k = sort_index[???]`</li>\n",
        "    <li>上位k個のラベルを取り出す：`labels = self.train_y[nearest_k]`</li>\n",
        "    <li>上位k個のラベルに各ラベルが何個ずつ含まれるか調べる：<br>\n",
        "    <img src=\"https://drive.google.com/uc?export=download&id=1TBgXDPKdDwKXYcJWPkkpT7cDSvR3NA_M\"　width=\"600\" height=\"128\">\n",
        "    <ul>\n",
        "        <li>np.eye(class_num)[labels]でラベルをone-hot表現にする<br>\n",
        "        <img src=\"https://drive.google.com/uc?export=download&id=11KSxXUN2lnMxOTj6G4c6OwyltxTnDh62\"　width=\"350\" height=\"300\">\n",
        "        <li>axis=1方向に合計をとる<br>\n",
        "        <img src=\"https://drive.google.com/uc?export=download&id=10eN_L6t1wN3B1Gw-m2Zg0mxThfssfAAg\"　width=\"350\" height=\"100\"><br>\n",
        "     <li>上位k個のラベルで最も多いラベルを調べる：np.argmax()</li>\n",
        "    </ul></li>\n",
        "    </ul>\n",
        "</details>"
      ]
    },
    {
      "cell_type": "code",
      "execution_count": 36,
      "metadata": {
        "id": "o2351Nqjb4zR"
      },
      "outputs": [],
      "source": [
        "class KNN:\n",
        "    def __init__(self, x, y, func=cosine_distance):\n",
        "        self.train_x = x\n",
        "        self.train_y = y\n",
        "        self.distance_func = func\n",
        "    \n",
        "    #入力パターンに対して予測ラベルを返す\n",
        "    def prediction(self, X, k):\n",
        "        distance_matrix = self.distance_func(X, self.train_x)\n",
        "        sort_index = np.argsort(distance_matrix, axis=1)\n",
        "        nearest_k = sort_index[:, :k]\n",
        "        labels = self.train_y[nearest_k]\n",
        "        label_num = np.sum(np.eye(class_num)[labels], axis=1)\n",
        "        Y = np.argmax(label_num, axis=1)\n",
        "        return Y\n",
        "    \n",
        "    #予測データと正解データを用いてaccuracyを計算する\n",
        "    def get_accuracy(self, pred, real, eval_func=accuracy_score):\n",
        "        accuracy = eval_func(pred, real)\n",
        "        return accuracy\n",
        "    \n",
        "    # 最適なkを見つけるためにkを変化させて予測を行い，最も性能が高いkを返す\n",
        "    def find_k(self, val_x, val_y, k_list):\n",
        "        score_list = []\n",
        "        #for k in tqdm(k_list): \n",
        "        for k in k_list:\n",
        "            pred = self.prediction(val_x, k)\n",
        "            accuracy = self.get_accuracy(pred, val_y)\n",
        "            print('k：{0}, accuracy：{1:.5f}'.format(k,accuracy))\n",
        "            score_list.append(accuracy)\n",
        "\n",
        "        top_ind = np.argmax(score_list)\n",
        "        best_k = k_list[top_ind]\n",
        "        print('best k : {0}, val score : {1:.5f}'.format(best_k,score_list[top_ind]))\n",
        "        return best_k"
      ]
    },
    {
      "cell_type": "markdown",
      "metadata": {
        "id": "QQoPJtDZb4zV"
      },
      "source": [
        "#### 課題3のテスト\n",
        "OKが表示されたら次に進む"
      ]
    },
    {
      "cell_type": "code",
      "execution_count": 37,
      "metadata": {
        "id": "gCjbSc2Tb4zW",
        "colab": {
          "base_uri": "https://localhost:8080/"
        },
        "outputId": "ce908e41-8b3f-4648-d4b1-33c21e7b0d15"
      },
      "outputs": [
        {
          "output_type": "stream",
          "name": "stdout",
          "text": [
            "OK\n"
          ]
        }
      ],
      "source": [
        "test_knn(KNN)"
      ]
    },
    {
      "cell_type": "markdown",
      "metadata": {
        "id": "YFTrsC4Qb4zZ"
      },
      "source": [
        "### k近傍法の実行\n",
        "<a name=\"k近傍法の実行\"></a>"
      ]
    },
    {
      "cell_type": "markdown",
      "metadata": {
        "id": "HXy0nRyBb4za"
      },
      "source": [
        "#### コサイン距離を用いる場合"
      ]
    },
    {
      "cell_type": "code",
      "execution_count": 38,
      "metadata": {
        "id": "rT-r1oNpb4zb",
        "colab": {
          "base_uri": "https://localhost:8080/"
        },
        "outputId": "dce238d0-8acb-479d-ab49-3747600ddf6d"
      },
      "outputs": [
        {
          "output_type": "stream",
          "name": "stdout",
          "text": [
            "k：1, accuracy：0.92083\n",
            "k：3, accuracy：0.92083\n",
            "k：5, accuracy：0.92917\n",
            "k：7, accuracy：0.91667\n",
            "k：9, accuracy：0.91250\n",
            "k：11, accuracy：0.92500\n",
            "k：13, accuracy：0.92917\n",
            "k：15, accuracy：0.92917\n",
            "k：17, accuracy：0.92500\n",
            "k：19, accuracy：0.92083\n",
            "best k : 5, val score : 0.92917\n",
            "test_accuracy :　0.92167\n"
          ]
        }
      ],
      "source": [
        "#インスタンス生成\n",
        "knn = KNN(train_x, train_y, func = cosine_distance)\n",
        "#検証用データval_xを用いて最適なkを算出する\n",
        "k_list = np.arange(1,21,2)\n",
        "best_k = knn.find_k(val_x, val_y, k_list)\n",
        "#検証用データで算出したkを用いてテストデータのクラスを予測する\n",
        "pred_y = knn.prediction(test_x, best_k)\n",
        "#正解率の計算\n",
        "result = knn.get_accuracy(pred_y, test_y)\n",
        "print('test_accuracy :　{0:.5f}'.format(result))"
      ]
    },
    {
      "cell_type": "markdown",
      "metadata": {
        "id": "EHZkBH3vb4zd"
      },
      "source": [
        "#### ユークリッド距離を用いる場合"
      ]
    },
    {
      "cell_type": "code",
      "execution_count": null,
      "metadata": {
        "id": "InhIB_zhb4ze",
        "colab": {
          "base_uri": "https://localhost:8080/"
        },
        "outputId": "2e106b1c-51e5-4e4e-9a41-502f344ababb"
      },
      "outputs": [
        {
          "output_type": "stream",
          "name": "stdout",
          "text": [
            "k：1, accuracy：0.90833\n",
            "k：3, accuracy：0.91667\n",
            "k：5, accuracy：0.92083\n",
            "k：7, accuracy：0.91667\n"
          ]
        }
      ],
      "source": [
        "knn = KNN(train_x, train_y, func = euclidean_distance)\n",
        "#検証用データval_xを用いて最適なkを算出する\n",
        "k_list = np.arange(1,21,2)\n",
        "best_k = knn.find_k(val_x, val_y, k_list)\n",
        "#検証用データで算出したkを用いてテストデータのクラスを予測する\n",
        "pred_y = knn.prediction(test_x, best_k)\n",
        "#正解率の計算\n",
        "result = knn.get_accuracy(pred_y, test_y)\n",
        "print('test_accuracy :　{0:.5f}'.format(result))"
      ]
    },
    {
      "cell_type": "markdown",
      "metadata": {
        "id": "tK9iJ3Udb4zh"
      },
      "source": [
        "test_accuracyがいずれの場合も約90パーセントであれば正解である．\n",
        "\n",
        "k近傍法はシンプルだが，入力パターンと学習パターンの全てに対して距離を計算しなければならないので，識別に時間がかかる．<br>\n",
        "コサイン距離やユークリッド距離を計算する際にfor文を使わない実装例を解答に示したので確認してみよう．"
      ]
    }
  ],
  "metadata": {
    "colab": {
      "provenance": [],
      "include_colab_link": true
    },
    "kernelspec": {
      "display_name": "Python 3",
      "language": "python",
      "name": "python3"
    },
    "language_info": {
      "codemirror_mode": {
        "name": "ipython",
        "version": 3
      },
      "file_extension": ".py",
      "mimetype": "text/x-python",
      "name": "python",
      "nbconvert_exporter": "python",
      "pygments_lexer": "ipython3",
      "version": "3.6.4"
    }
  },
  "nbformat": 4,
  "nbformat_minor": 0
}