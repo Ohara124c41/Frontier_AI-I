{
  "cells": [
    {
      "cell_type": "markdown",
      "metadata": {
        "id": "view-in-github",
        "colab_type": "text"
      },
      "source": [
        "<a href=\"https://colab.research.google.com/github/Ohara124c41/Frontier_AI-I/blob/main/Neural_Networks.ipynb\" target=\"_parent\"><img src=\"https://colab.research.google.com/assets/colab-badge.svg\" alt=\"Open In Colab\"/></a>"
      ]
    },
    {
      "cell_type": "markdown",
      "metadata": {
        "id": "GZ5ExgCUR9ld"
      },
      "source": [
        "# 0 Preface\n",
        "このノートブックではニューラルネットワークを用いて，以下の基本的な問題に取り組みます．\n",
        "\n",
        "\n",
        "*   CNNを使った画像分類\n",
        "\n",
        "## 注意\n",
        "このノートブックは，PyTorchの公式チュートリアルである [DEEP LEARNING WITH PYTORCH: A 60 MINUTE BLITZ](https://pytorch.org/tutorials/beginner/deep_learning_60min_blitz.html#deep-learning-with-pytorch-a-60-minute-blitz) の [Neural Networks](https://pytorch.org/tutorials/beginner/blitz/neural_networks_tutorial.html#sphx-glr-beginner-blitz-neural-networks-tutorial-py) を日本語に翻訳し，必要に応じて必要事項を適宜補足したものです．"
      ]
    },
    {
      "cell_type": "markdown",
      "metadata": {
        "id": "K9knimKcR9le"
      },
      "source": [
        "# ニューラルネットワーク\n",
        "\n",
        "\n",
        "\n",
        "\n",
        "\n",
        "ニューラルネットワークはtorch.nnパッケージを使って構築することができます．\n",
        "前回のノートブックでAutoGradについて解説しましたが，torch.nnはAutoGradを用いたモデルを定義します．</br>\n",
        "\n",
        "nn.Moduleはレイヤーと出力を返すforward(input)メソッドを含みます．\n",
        "\n",
        "例として，以下の数字画像を分類するネットワークを見てください．（図は[PyTorch公式チュートリアル](https://pytorch.org/tutorials/)より）\n",
        "\n",
        "\n",
        "<img src=\"https://pytorch.org/tutorials/_images/mnist.png\" border=\"0\">\n",
        "\n",
        "\n",
        "\n",
        "これは非常にシンプルなフィードフォワードネットワークの例となっています．具体的には，画像を入力とし，いくつかのレイヤーを次々と伝播した後に，最終的にその画像のクラスを表すone-hotベクトルを出力します．\n",
        "\n",
        "典型的なニューラルネットワークの訓練手順は以下の6ステップから成ります．\n",
        "\n",
        "1. 訓練の対象である重み（パラメータ）をもつニューラルネットワークを定義する\n",
        "\n",
        "2. データセットから入力データを繰り返しネットワークに入力する\n",
        "\n",
        "3. 入力をネットワークに伝播させる\n",
        "\n",
        "4. 最終的な出力が正解データとどれくらい異なるかを表す誤差を計算する\n",
        "\n",
        "5. 誤差をネットワークの各重みに逆伝播させる（バックプロパゲーション）\n",
        "\n",
        "6. 5.で得られた勾配をもとにネットワークの各重みを更新する（最も単純な更新式の例としては， `weight = weight - learning_rate * gradient` など）\n"
      ]
    },
    {
      "cell_type": "markdown",
      "metadata": {
        "id": "nKisyWy1fr_1"
      },
      "source": [
        "【**注意**】 以降でdrive中にファイルを読み込めるよう以下を実行しておいてください．"
      ]
    },
    {
      "cell_type": "code",
      "execution_count": 1,
      "metadata": {
        "colab": {
          "base_uri": "https://localhost:8080/"
        },
        "id": "ehKJtKliDaOf",
        "outputId": "323dbd99-93ca-476f-b188-d21582b084a2"
      },
      "outputs": [
        {
          "output_type": "stream",
          "name": "stdout",
          "text": [
            "Mounted at /content/drive\n",
            "/content/drive/MyDrive/__FrontierAI-I/FAI20230606\n"
          ]
        }
      ],
      "source": [
        "from google.colab import drive # driveを接続\n",
        "drive.mount('/content/drive')\n",
        "\n",
        "# drive中の課題ファイルのあるディレクトリに移動\n",
        "%cd /content/drive/MyDrive/__FrontierAI-I/FAI20230606/"
      ]
    },
    {
      "cell_type": "code",
      "source": [
        "import torch\n",
        "import torch.nn as nn\n",
        "import torch.nn.functional as F\n",
        "\n",
        "import torch.optim as optim\n",
        "\n",
        "import torchvision\n",
        "import torchvision.transforms as transforms\n",
        "\n",
        "from torchsummary import summary"
      ],
      "metadata": {
        "id": "RQi_8u9O1Lua"
      },
      "execution_count": 2,
      "outputs": []
    },
    {
      "cell_type": "markdown",
      "metadata": {
        "id": "FbJC1fifR9lf"
      },
      "source": [
        "# ネットワークを定義する\n",
        "では実際にニューラルネットワークを定義してみましょう．"
      ]
    },
    {
      "cell_type": "code",
      "execution_count": null,
      "metadata": {
        "colab": {
          "base_uri": "https://localhost:8080/"
        },
        "id": "m7I5gKh9R9lg",
        "outputId": "8c0dbfbc-039d-492b-e903-a9f25c3a7a3b"
      },
      "outputs": [
        {
          "output_type": "stream",
          "name": "stdout",
          "text": [
            "Net(\n",
            "  (conv1): Conv2d(1, 6, kernel_size=(5, 5), stride=(1, 1))\n",
            "  (conv2): Conv2d(6, 16, kernel_size=(5, 5), stride=(1, 1))\n",
            "  (fc1): Linear(in_features=400, out_features=120, bias=True)\n",
            "  (fc2): Linear(in_features=120, out_features=84, bias=True)\n",
            "  (fc3): Linear(in_features=84, out_features=10, bias=True)\n",
            ")\n"
          ]
        }
      ],
      "source": [
        "class Net(nn.Module):\n",
        "\n",
        "    def __init__(self):\n",
        "        super(Net, self).__init__()\n",
        "        self.conv1 = nn.Conv2d(1, 6, 5)   # 入力のチャネル数は1，出力のチャネル数は6，5x5の畳み込み層\n",
        "        self.conv2 = nn.Conv2d(6, 16, 5)  # 入力のチャネル数は6，出力のチャネル数は16，5x5の畳み込み層\n",
        "\n",
        "        # 線形層 y = Wx + b\n",
        "        self.fc1 = nn.Linear(16 * 5 * 5, 120)\n",
        "        self.fc2 = nn.Linear(120, 84)\n",
        "        self.fc3 = nn.Linear(84, 10)\n",
        "\n",
        "    def forward(self, x):\n",
        "        x = F.max_pool2d(F.relu(self.conv1(x)), (2, 2))   # 大きさ(2,2)のMaxプーリング層\n",
        "        x = F.max_pool2d(F.relu(self.conv2(x)), 2)    # プーリングのWindowサイズの縦と横が同じ大きさなら，タプルではなく単一の値で指定できる\n",
        "        x = x.view(-1, self.num_flat_features(x))\n",
        "        x = F.relu(self.fc1(x))\n",
        "        x = F.relu(self.fc2(x))\n",
        "        x = self.fc3(x)\n",
        "        return x\n",
        "\n",
        "    def num_flat_features(self, x):\n",
        "        size = x.size()[1:]   # バッチの次元以外のすべての次元\n",
        "        num_features = 1\n",
        "        for s in size:\n",
        "            num_features *= s\n",
        "        return num_features\n",
        "\n",
        "\n",
        "net = Net()\n",
        "print(net)"
      ]
    },
    {
      "cell_type": "markdown",
      "metadata": {
        "id": "kCHxNOlOR9ll"
      },
      "source": [
        "ここで注目すべきは，backwardの計算（誤差逆伝播における重みの勾配の計算）は自分で実装する必要はないということです．forwardの計算のみを実装すれば，AutoGradによってbackwardの計算は裏側で自動的に組み込まれます．forwardの計算には，Tensorに対する演算を（基本的には）なんでも使うことができます．\n",
        "\n",
        "学習対象となるモデルのパラメータは，net.parameters()で取得することができます．"
      ]
    },
    {
      "cell_type": "code",
      "source": [
        "class Net(nn.Module):\n",
        "    def __init__(self):\n",
        "        super(Net, self).__init__()\n",
        "        self.conv1 = nn.Conv2d(3, 6, 5)  #入力を3チャンネルに変更\n",
        "        self.pool = nn.MaxPool2d(2, 2)\n",
        "        self.conv2 = nn.Conv2d(6, 16, 5)\n",
        "        self.fc1 = nn.Linear(16 * 5 * 5, 120)\n",
        "        self.fc2 = nn.Linear(120, 84)\n",
        "        self.fc3 = nn.Linear(84, 10)\n",
        "\n",
        "    def forward(self, x):\n",
        "        x = self.pool(F.relu(self.conv1(x)))\n",
        "        x = self.pool(F.relu(self.conv2(x)))\n",
        "        x = x.view(-1, 16 * 5 * 5)\n",
        "        x = F.relu(self.fc1(x))\n",
        "        x = F.relu(self.fc2(x))\n",
        "        x = self.fc3(x)\n",
        "        return x\n",
        "net = Net()\n",
        "\n",
        "# device = 'cuda' if torch.cuda.is_available() else 'cpu'\n",
        "# net = Net().to(device)"
      ],
      "metadata": {
        "id": "qqiuVJQzuy9s"
      },
      "execution_count": 3,
      "outputs": []
    },
    {
      "cell_type": "code",
      "source": [
        "criterion = nn.CrossEntropyLoss()\n",
        "optimizer = optim.SGD(net.parameters(), lr=0.001, momentum=0.9)"
      ],
      "metadata": {
        "id": "cjwILD2T1zZV"
      },
      "execution_count": 4,
      "outputs": []
    },
    {
      "cell_type": "code",
      "source": [
        "for epoch in range(2):  # 訓練データを複数回(2周分)学習する\n",
        "\n",
        "    running_loss = 0.0\n",
        "    for i, data in enumerate(trainloader, 0):\n",
        "        # ローダからデータを取得する; データは [inputs, labels] の形で取得される．\n",
        "        # イテレータを使用していないように見えますが for の内部で使用されています．\n",
        "        inputs, labels = data\n",
        "\n",
        "        # 勾配を0に初期化する(逆伝播に備える)．\n",
        "        optimizer.zero_grad()\n",
        "\n",
        "        # 順伝播 + 逆伝播 + 最適化(訓練)\n",
        "        outputs = net(inputs)\n",
        "        loss = criterion(outputs, labels)\n",
        "        loss.backward()\n",
        "        optimizer.step()\n",
        "\n",
        "        # 統計を表示する．\n",
        "        running_loss += loss.item()\n",
        "        if i % 2000 == 1999:    # 2000 ミニバッチ毎に表示する．\n",
        "            print('[%d, %5d] loss: %.3f' %\n",
        "                  (epoch + 1, i + 1, running_loss / 2000))\n",
        "            running_loss = 0.0\n",
        "\n",
        "print('Finished Training')"
      ],
      "metadata": {
        "id": "zoWSpVPo_guj"
      },
      "execution_count": null,
      "outputs": []
    },
    {
      "cell_type": "code",
      "execution_count": null,
      "metadata": {
        "id": "iTFQgOheR9ll"
      },
      "outputs": [],
      "source": [
        "params = list(net.parameters())\n",
        "print(len(params))\n",
        "print(params[0].size())  # conv1の重みのSize"
      ]
    },
    {
      "cell_type": "markdown",
      "metadata": {
        "id": "auJAaFLYR9lo"
      },
      "source": [
        "このネットワークに，大きさ32x32のランダム画像を入力してみます．\n",
        "\n",
        "\n",
        "【**注意**】 MNISTデータセットの画像をこのネットワークに入力するためには，画像サイズを32x32にリサイズする必要があります．"
      ]
    },
    {
      "cell_type": "code",
      "execution_count": null,
      "metadata": {
        "id": "wsHjrg9qR9lq"
      },
      "outputs": [],
      "source": [
        "input = torch.randn(1, 1, 32, 32)\n",
        "out = net(input)\n",
        "print(out)"
      ]
    },
    {
      "cell_type": "markdown",
      "metadata": {
        "id": "sSPmt0cIR9lt"
      },
      "source": [
        "全ての重みの微分を0にリセットした後，ランダムな値でのlossの勾配をバックプロパゲーションします．"
      ]
    },
    {
      "cell_type": "code",
      "execution_count": null,
      "metadata": {
        "id": "16qPyiKwR9lt"
      },
      "outputs": [],
      "source": [
        "net.zero_grad()\n",
        "out.backward(torch.randn(1, 10))"
      ]
    },
    {
      "cell_type": "markdown",
      "metadata": {
        "id": "Wmi2DaoAR9lw"
      },
      "source": [
        "【**注意**】\n",
        "- `torch.nn`はバッチのみをサポートします．`torch.nn`パッケージでは一貫して，1つのサンプルではなく，サンプルのミニバッチを入力として扱うというルールがあります．\n",
        "- 例えば，`nn.Conv2d`では，バッチサイズ x チャネル数 x 縦 x 横 の4次元のTensorを入力として受け付けます．\n",
        "- もし1つのサンプルを用いたい場合は，`input.unsqueeze(0)`とすることで，バッチの次元を加えることで対処します．"
      ]
    },
    {
      "cell_type": "markdown",
      "metadata": {
        "id": "ItKitwzbR9lw"
      },
      "source": [
        "先に進む前に，このあたりで今までの確認をしておきます．\n",
        "\n",
        "- **`torch.Tensor`**<br/>\n",
        "多次元配列のクラス．`backward()`などのAutoGradの操作をメソッドとしてもつ．また，各Tensorオブジェクトは，そのTensorに関する勾配として`grad`プロパティを保持します．\n",
        "\n",
        "- **`nn.Module`**<br/>\n",
        "ネットワークのモジュールのクラス．重みパラメータや各層の初期化，forward層とbackward層などをカプセル化しています．\n",
        "\n",
        "- **`nn.Parameters`**<br/>\n",
        "`nn.Module`に自動的に登録される重みパラメータのクラス．その実態はTensor．"
      ]
    },
    {
      "cell_type": "markdown",
      "metadata": {
        "id": "oNRRfxLHR9lx"
      },
      "source": [
        "# Loss Function\n",
        "Loss Functionとは，(output, target)のペアを入力として，output（出力）とtarget（正解）がどれだけ異なるかを表す値（損失）を計算する関数のことです．"
      ]
    },
    {
      "cell_type": "code",
      "execution_count": null,
      "metadata": {
        "id": "WOb-dS5UR9ly"
      },
      "outputs": [],
      "source": [
        "# output = net(input)\n",
        "# target = torch.randn(10)\n",
        "# target = target.view(1, -1)  # targetのshapeをoutputのshapeと同じにしておく\n",
        "# criterion = nn.MSELoss()\n",
        "\n",
        "# loss = criterion(output, target)\n",
        "# print(loss)"
      ]
    },
    {
      "cell_type": "markdown",
      "metadata": {
        "id": "gtelf_dLR9l1"
      },
      "source": [
        "ここで，.grad_fn 属性を使用してlossから各層を逆方向に追ってみると，次のような計算グラフが構成されていることがわかります．"
      ]
    },
    {
      "cell_type": "markdown",
      "metadata": {
        "id": "fz0NDyk8jLkk"
      },
      "source": [
        "```\n",
        "input -> conv2d -> relu -> maxpool2d -> conv2d -> relu -> maxpool2d\n",
        "      -> view -> linear -> relu -> linear -> relu -> linear\n",
        "      -> MSELoss\n",
        "      -> loss\n",
        "```"
      ]
    },
    {
      "cell_type": "markdown",
      "metadata": {
        "id": "GbvfbbPCR9l1"
      },
      "source": [
        "`loss.backward()`を呼ぶと，lossに関してグラフ全体が微分され，グラフ中の`requires_grad=True`となっているTensorはその勾配を`.grad`プロパティに保持します．"
      ]
    },
    {
      "cell_type": "markdown",
      "metadata": {
        "id": "p053ka1fR9l2"
      },
      "source": [
        "# バックプロパゲーション\n",
        "`loss.backward()`を呼ぶだけで，`loss`に関するバックプロパゲーションが行われます．今回のバックプロパゲーションを行う前に，以前のバックプロパゲーションで計算された勾配を0にリセットしておく必要があります．\n",
        "\n",
        "以下では，`loss`に関するバックプロパゲーションを行い，`conv1`のバイアスパラメータの勾配の更新を確認しています．"
      ]
    },
    {
      "cell_type": "code",
      "execution_count": null,
      "metadata": {
        "colab": {
          "base_uri": "https://localhost:8080/"
        },
        "id": "o2AfYx7OR9l2",
        "outputId": "53a32d3d-3ce2-4002-d3bd-19e6cbc3dd20"
      },
      "outputs": [
        {
          "output_type": "stream",
          "name": "stdout",
          "text": [
            "conv1.bias.grad before backward\n",
            "tensor([-0.0052, -0.0641, -0.0002, -0.0850,  0.0907,  0.0595])\n",
            "conv1.bias.grad after backward\n",
            "tensor([-0.0003, -0.0498,  0.0002, -0.0728,  0.0746,  0.0481])\n"
          ]
        }
      ],
      "source": [
        "print('conv1.bias.grad before backward')\n",
        "print(net.conv1.bias.grad)\n",
        "\n",
        "loss.backward()\n",
        "\n",
        "print('conv1.bias.grad after backward')\n",
        "print(net.conv1.bias.grad)"
      ]
    },
    {
      "cell_type": "markdown",
      "metadata": {
        "id": "zd3P-YySR9l5"
      },
      "source": [
        "# 重みの更新\n",
        "実用的な更新式として最も単純なものは**確率的勾配降下法（Stochastic Gradient Descent, SGD）**でしょう．SGDは，以下のような更新式で重みを更新する手法です．\n",
        "\n",
        "```\n",
        "weight = weight - learning_rate * gradient\n",
        "```\n"
      ]
    },
    {
      "cell_type": "markdown",
      "metadata": {
        "id": "NYQjDJ-sR9l5"
      },
      "source": [
        "これは次のように簡単なPythonコードで実装できます："
      ]
    },
    {
      "cell_type": "code",
      "execution_count": null,
      "metadata": {
        "id": "K72MfFWUR9l6"
      },
      "outputs": [],
      "source": [
        "learning_rate = 0.01\n",
        "for f in net.parameters():\n",
        "    f.data.sub_(f.grad.data * learning_rate)"
      ]
    },
    {
      "cell_type": "markdown",
      "metadata": {
        "id": "a6Bj9Mg_R9l8"
      },
      "source": [
        "SGDの他にも，Nesterov-SGD, Adam, RMSPropなどの様々な重みの更新手法が存在し，PyTorchではそれらを`torch.optim`パッケージで管理しています．例えば，SGDを使いたい場合は単に\n",
        "```\n",
        "optim.SGD(net.paramters(), lr=0.01)\n",
        "```\n",
        "とすることで`Optimizer`クラスのインスタンスとしてSGDを生成し，これを使って次のように簡単に重みの更新を行うことができます："
      ]
    },
    {
      "cell_type": "code",
      "execution_count": null,
      "metadata": {
        "id": "ByNFzNneR9l9"
      },
      "outputs": [],
      "source": [
        "import torch.optim as optim\n",
        "\n",
        "# optimizerを定義する\n",
        "optimizer = optim.SGD(net.parameters(), lr=0.01)\n",
        "\n",
        "# 訓練のループの中で以下の処理を行う\n",
        "optimizer.zero_grad()   # 各層の重みをゼロで初期化する\n",
        "output = net(input)   # 入力からモデルを通して出力を計算\n",
        "loss = criterion(output, target)    # 損失を計算\n",
        "loss.backward()   # バックプロパゲーション\n",
        "optimizer.step()    # 重みの更新を行う"
      ]
    },
    {
      "cell_type": "markdown",
      "metadata": {
        "id": "AOG00wptR9l_"
      },
      "source": [
        "### 注意\n",
        "`optimizer.zero_grad()`を実行して手動で勾配をゼロにリセットする必要があることに注意してください．バックプロパゲーションの項で扱ったように，`grad`には`.backward`メソッドが実行されるたびに勾配が積算されるからです．"
      ]
    },
    {
      "cell_type": "markdown",
      "metadata": {
        "id": "DPjZ1JbySIlp"
      },
      "source": [
        "# 課題\n",
        "定義した`MyAlexNet()`クラスを参考にAlexNetを再現してください．下図（右）にAlexNetの構造の詳細を示します．左は参考のために載せたLeNetの構造の詳細です．（図は[Dive into Deep Learning](http://d2l.ai/)より引用）<br>\n",
        "\n",
        "<img src='http://d2l.ai/_images/alexnet.svg'>\n",
        "\n",
        "【**注意**】\n",
        "- 上図には書かれてありませんが、一番初めのConv層では`padding=2`で実装してください.\n",
        "- strideが指定されていないところは`stride=1`で実装してください．\n",
        "- 活性化関数には`nn.ReLU`を使用してください．\n",
        "- denseでは`nn.Linear`を利用してください．\n",
        "- 一番上の1000はクラス数なので解きたい課題に合わせて変更できるように`__init__`の引数`num_classes`として持っておくと便利です．\n",
        "\n",
        "\n",
        "<details>\n",
        "<summary>\n",
        "課題：ヒント\n",
        "</summary>\n",
        "3回目のmaxpoolingのあと，Full connectionするためにはtensorのshapeを(batch数, 256*6*6)のベクトルに変えた後に(batch数, 4096)への線型層にかけます<br>\n",
        "Net()を参考に変えてください\n",
        "\n",
        "</details>"
      ]
    },
    {
      "cell_type": "code",
      "execution_count": null,
      "metadata": {
        "id": "G2Hs1YaCvajT"
      },
      "outputs": [],
      "source": [
        "from torchsummary import summary"
      ]
    },
    {
      "cell_type": "code",
      "execution_count": null,
      "metadata": {
        "id": "vhCPR9yGvdSs"
      },
      "outputs": [],
      "source": [
        "mynet = Net()\n",
        "summary(mynet, (3, 6, 5))"
      ]
    },
    {
      "cell_type": "code",
      "execution_count": 6,
      "metadata": {
        "colab": {
          "base_uri": "https://localhost:8080/"
        },
        "id": "RGaDlAfPrkHV",
        "outputId": "8792686c-3f9e-42ff-bfea-46511fe63f11"
      },
      "outputs": [
        {
          "output_type": "stream",
          "name": "stdout",
          "text": [
            "Files already downloaded and verified\n",
            "Files already downloaded and verified\n"
          ]
        }
      ],
      "source": [
        "#変換器の作成\n",
        "#transforms.Composeによって複数の変換を組み合わせ、データを読み込む際に使用するデータ変換器を作成します．\n",
        "#ここではPILImageをtorch.Tensorに変換したのち正規化を行う変換器を作成します．\n",
        "transform = transforms.Compose(\n",
        "    [transforms.ToTensor(),  # torch.Tensor へ変換\n",
        "     transforms.Normalize((0.5, 0.5, 0.5), (0.5, 0.5, 0.5))])  # 正規化する\n",
        "\n",
        "#訓練データのダウンロードと変換\n",
        "#扱うデータの集合であるデータセットを作成します．\n",
        "#データは読み込まれる際に変換器によって変換され取り出されます．\n",
        "trainset = torchvision.datasets.CIFAR10(root='./data', train=True,\n",
        "                                        download=True, transform=transform)\n",
        "#訓練データのローダ(読み込み器)の作成\n",
        "#データセットからデータを読み込むローダを作成します．\n",
        "#ローダを挟むことで同時に幾つのデータを読み込むか、順番に読み込むかランダムに読み込むかなどデータの読み込み方を容易に設定できます．\n",
        "#またnum_workersの指定によってデータ読み込みの並列化を容易に実現できます．\n",
        "trainloader = torch.utils.data.DataLoader(trainset, batch_size=4,\n",
        "                                          shuffle=True, num_workers=2)\n",
        "\n",
        "#テストデータのダウンロードと変換\n",
        "testset = torchvision.datasets.CIFAR10(root='./data', train=False,\n",
        "                                       download=True, transform=transform)\n",
        "#テストデータのローダ(読み込み器)の作成\n",
        "testloader = torch.utils.data.DataLoader(testset, batch_size=4,\n",
        "                                         shuffle=False, num_workers=2)\n",
        "classes = ('plane', 'car', 'bird', 'cat',\n",
        "           'deer', 'dog', 'frog', 'horse', 'ship', 'truck')"
      ]
    },
    {
      "cell_type": "code",
      "execution_count": 7,
      "metadata": {
        "colab": {
          "base_uri": "https://localhost:8080/",
          "height": 210
        },
        "id": "fVdiFCcRrnwt",
        "outputId": "8a16d257-2ccf-4444-cafa-f058c938343f"
      },
      "outputs": [
        {
          "output_type": "display_data",
          "data": {
            "text/plain": [
              "<Figure size 640x480 with 1 Axes>"
            ],
            "image/png": "[encoded data removed]"
          },
          "metadata": {}
        },
        {
          "output_type": "stream",
          "name": "stdout",
          "text": [
            " deer truck truck  bird\n"
          ]
        }
      ],
      "source": [
        "import matplotlib.pyplot as plt\n",
        "import numpy as np\n",
        "\n",
        "def imshow(img):\n",
        "    img = img / 2 + 0.5  # [-1,1] を [0,1] へ戻す(正規化解除)\n",
        "    npimg = img.numpy()  # torch.Tensor から numpy へ変換\n",
        "    plt.imshow(np.transpose(npimg, (1, 2, 0)))  # チャンネルを最後に並び変える((C,X,Y) -> (X,Y,C))\n",
        "    plt.show()  # 表示\n",
        "\n",
        "\n",
        "# 訓練用画像を取得する\n",
        "# pythonでは順番にデータを取得する際にイテレータと呼ばれるオブジェクトが介在します．\n",
        "# ローダを使用してデータを読み込む際もイテレータを使用します．\n",
        "dataiter = iter(trainloader)  # ローダを使って実際にデータを取得するためのイテレータを作成する．\n",
        "# images, labels = dataiter.next()  # イテレータからデータを取得する．\n",
        "images, labels = next(dataiter)  # イテレータからデータを取得する．\n",
        "\n",
        "# 画像を表示する．\n",
        "imshow(torchvision.utils.make_grid(images))\n",
        "# ラベル(クラス)を表示する．\n",
        "print(' '.join('%5s' % classes[labels[j]] for j in range(4)))"
      ]
    },
    {
      "cell_type": "code",
      "source": [
        "for epoch in range(2):  # 訓練データを複数回(2周分)学習する\n",
        "\n",
        "    running_loss = 0.0\n",
        "    for i, data in enumerate(trainloader, 0):\n",
        "        # ローダからデータを取得する; データは [inputs, labels] の形で取得される．\n",
        "        # イテレータを使用していないように見えますが for の内部で使用されています．\n",
        "        inputs, labels = data\n",
        "\n",
        "        # 勾配を0に初期化する(逆伝播に備える)．\n",
        "        optimizer.zero_grad()\n",
        "\n",
        "        # 順伝播 + 逆伝播 + 最適化(訓練)\n",
        "        outputs = net(inputs)\n",
        "        loss = criterion(outputs, labels)\n",
        "        loss.backward()\n",
        "        optimizer.step()\n",
        "\n",
        "        # 統計を表示する．\n",
        "        running_loss += loss.item()\n",
        "        if i % 2000 == 1999:    # 2000 ミニバッチ毎に表示する．\n",
        "            print('[%d, %5d] loss: %.3f' %\n",
        "                  (epoch + 1, i + 1, running_loss / 2000))\n",
        "            running_loss = 0.0\n",
        "\n",
        "print('Finished Training')"
      ],
      "metadata": {
        "colab": {
          "base_uri": "https://localhost:8080/"
        },
        "id": "jXgYCGTpvhSC",
        "outputId": "e31a2996-1cfb-411b-eb76-cd3f6b49a2bc"
      },
      "execution_count": 8,
      "outputs": [
        {
          "output_type": "stream",
          "name": "stdout",
          "text": [
            "[1,  2000] loss: 2.166\n",
            "[1,  4000] loss: 1.837\n",
            "[1,  6000] loss: 1.691\n",
            "[1,  8000] loss: 1.607\n",
            "[1, 10000] loss: 1.539\n",
            "[1, 12000] loss: 1.492\n",
            "[2,  2000] loss: 1.423\n",
            "[2,  4000] loss: 1.418\n",
            "[2,  6000] loss: 1.371\n",
            "[2,  8000] loss: 1.344\n",
            "[2, 10000] loss: 1.333\n",
            "[2, 12000] loss: 1.313\n",
            "Finished Training\n"
          ]
        }
      ]
    },
    {
      "cell_type": "markdown",
      "metadata": {
        "id": "zj_42yeo2TQI"
      },
      "source": [
        "余談ですが，自分が実装しているモデルの中間出力のshapeを知りたいときやパラメータの数を知りたいとき，`torchsummary`を使うと便利です．課題を解く際に使ってみてください"
      ]
    },
    {
      "cell_type": "markdown",
      "metadata": {
        "id": "hbeYLE_E29_w"
      },
      "source": [
        "<details>\n",
        "<summary>\n",
        "解答\n",
        "</summary>\n",
        "\n",
        "    class MyAlexNet(nn.Module):\n",
        "      def __init__(self, num_classes=1000):\n",
        "        super(MyAlexNet, self).__init__()\n",
        "        self.conv1 = nn.Conv2d(3, 96, kernel_size=11, stride=4, padding=2)\n",
        "        self.conv2 = nn.Conv2d(96, 256, kernel_size=5, padding=2)\n",
        "        self.conv3 = nn.Conv2d(256, 384, kernel_size=3, padding=1)\n",
        "        self.conv4 = nn.Conv2d(384, 384, kernel_size=3, padding=1)\n",
        "        self.conv5 = nn.Conv2d(384, 256, kernel_size=3, padding=1)\n",
        "        self.fc1 = nn.Linear(256 * 6 * 6, 4096)\n",
        "        self.fc2 = nn.Linear(4096, 4096)\n",
        "        self.fc3 = nn.Linear(4096, num_classes)\n",
        "\n",
        "      def forward(self, x):\n",
        "        x = F.max_pool2d(F.relu(self.conv1(x)), 3, 2)\n",
        "        x = F.max_pool2d(F.relu(self.conv2(x)), 3, 2)\n",
        "        x = F.relu(self.conv3(x))\n",
        "        x = F.relu(self.conv4(x))\n",
        "        x = F.max_pool2d(F.relu(self.conv5(x)), 3, 2)\n",
        "        x = x.view(-1, self.num_flat_features(x))\n",
        "        x = F.relu(self.fc1(x))\n",
        "        x = F.relu(self.fc2(x))\n",
        "        x = self.fc3(x)\n",
        "        return x\n",
        "\n",
        "      def num_flat_features(self, x):\n",
        "        size = x.size()[1:]  # all dimensions except the batch dimension\n",
        "        num_features = 1\n",
        "        for s in size:\n",
        "            num_features *= s\n",
        "        return num_features\n",
        "\n",
        "</details>"
      ]
    },
    {
      "cell_type": "code",
      "execution_count": 9,
      "metadata": {
        "id": "Jr3VywfesMSy"
      },
      "outputs": [],
      "source": [
        "# net.state_dict()によってネットワークの全パラメタ(重み)を格納した辞書を取得し，torch.saveで保存します．\n",
        "# パラメタ(重み)でなくネットワークを丸ごと保存することも可能ですが、後々不便になることが多いです．\n",
        "PATH = './cifar_net.pth'\n",
        "torch.save(net.state_dict(), PATH)"
      ]
    },
    {
      "cell_type": "code",
      "execution_count": 10,
      "metadata": {
        "colab": {
          "base_uri": "https://localhost:8080/",
          "height": 210
        },
        "id": "t8YF-Jt1sOwn",
        "outputId": "b4a961ed-aa49-4aa6-e627-e29d34aa8fc2"
      },
      "outputs": [
        {
          "output_type": "display_data",
          "data": {
            "text/plain": [
              "<Figure size 640x480 with 1 Axes>"
            ],
            "image/png": "[encoded data removed]"
          },
          "metadata": {}
        },
        {
          "output_type": "stream",
          "name": "stdout",
          "text": [
            "GroundTruth:    cat  ship  ship plane\n"
          ]
        }
      ],
      "source": [
        "# テストデータを取得\n",
        "dataiter = iter(testloader)\n",
        "images, labels = next(dataiter)\n",
        "\n",
        "# 画像を表示\n",
        "imshow(torchvision.utils.make_grid(images))\n",
        "print('GroundTruth: ', ' '.join('%5s' % classes[labels[j]] for j in range(4)))"
      ]
    },
    {
      "cell_type": "code",
      "execution_count": 11,
      "metadata": {
        "colab": {
          "base_uri": "https://localhost:8080/"
        },
        "id": "s2sV80qd3Y_X",
        "outputId": "4c16e767-095b-4361-bdfc-45d4b351f668"
      },
      "outputs": [
        {
          "output_type": "execute_result",
          "data": {
            "text/plain": [
              "<All keys matched successfully>"
            ]
          },
          "metadata": {},
          "execution_count": 11
        }
      ],
      "source": [
        "net = Net()  # ネットワークを再生成する（学習前の初期化されたネットワークになる）．\n",
        "net.load_state_dict(torch.load(PATH))  # 保存しておいた学習後のパラメタ（重み）を読み込む．"
      ]
    },
    {
      "cell_type": "code",
      "execution_count": 12,
      "metadata": {
        "id": "ktVRyByU3hlb"
      },
      "outputs": [],
      "source": [
        "outputs = net(images)"
      ]
    },
    {
      "cell_type": "code",
      "execution_count": 13,
      "metadata": {
        "colab": {
          "base_uri": "https://localhost:8080/"
        },
        "id": "8NWwypGw3lFI",
        "outputId": "23960f37-7938-4c6a-ddb8-44527cf28d9b"
      },
      "outputs": [
        {
          "output_type": "stream",
          "name": "stdout",
          "text": [
            "Predicted:    cat  ship  ship  ship\n"
          ]
        }
      ],
      "source": [
        "_, predicted = torch.max(outputs, 1)\n",
        "\n",
        "print('Predicted: ', ' '.join('%5s' % classes[predicted[j]]\n",
        "                              for j in range(4)))"
      ]
    },
    {
      "cell_type": "code",
      "source": [
        "class_correct = list(0. for i in range(10))\n",
        "class_total = list(0. for i in range(10))\n",
        "with torch.no_grad():\n",
        "    for data in testloader:\n",
        "        inputs, labels = data\n",
        "        outputs = net(inputs)\n",
        "        _, predicted = torch.max(outputs, 1)\n",
        "        c = (predicted == labels).squeeze()\n",
        "        for i in range(4):\n",
        "            label = labels[i]\n",
        "            class_correct[label] += c[i].item()\n",
        "            class_total[label] += 1\n",
        "\n",
        "\n",
        "for i in range(10):\n",
        "    print('Accuracy of %5s : %2d %%' % (\n",
        "        classes[i], 100 * class_correct[i] / class_total[i]))"
      ],
      "metadata": {
        "colab": {
          "base_uri": "https://localhost:8080/"
        },
        "id": "ZVrRAdOc-QRi",
        "outputId": "75951b0c-cc9f-4f01-f3a9-24b02e00c07d"
      },
      "execution_count": 14,
      "outputs": [
        {
          "output_type": "stream",
          "name": "stdout",
          "text": [
            "Accuracy of plane : 60 %\n",
            "Accuracy of   car : 62 %\n",
            "Accuracy of  bird : 29 %\n",
            "Accuracy of   cat : 26 %\n",
            "Accuracy of  deer : 28 %\n",
            "Accuracy of   dog : 44 %\n",
            "Accuracy of  frog : 83 %\n",
            "Accuracy of horse : 63 %\n",
            "Accuracy of  ship : 75 %\n",
            "Accuracy of truck : 64 %\n"
          ]
        }
      ]
    },
    {
      "cell_type": "code",
      "execution_count": 31,
      "metadata": {
        "id": "93sngye81iv4"
      },
      "outputs": [],
      "source": [
        "from torch.nn.modules.pooling import MaxPool2d\n",
        "class MyAlexNet(nn.Module):\n",
        "  def __init__(self, num_classes):\n",
        "    super(MyAlexNet, self).__init__()\n",
        "    self.num_classes = num_classes\n",
        "\n",
        "    self.conv1 = nn.Conv2d(3,    96, kernel_size=7, stride = 1, padding=3)\n",
        "    self.conv2 = nn.Conv2d(96,  384, kernel_size=5, stride = 1, padding=2)\n",
        "    # self.conv3 = nn.Conv2d(256, 384, kernel_size=5, stride = 1, padding=1)\n",
        "    self.conv4 = nn.Conv2d(384, 384, kernel_size=3, stride = 1, padding=1)\n",
        "    # self.conv6 = nn.Conv2d(384, 512, kernel_size=3, stride = 1, padding=1)\n",
        "    # self.conv7 = nn.Conv2d(512, 512, kernel_size=3, stride = 1, padding=1)\n",
        "    # self.conv8 = nn.Conv2d(512, 384, kernel_size=3, stride = 1, padding=1)\n",
        "\n",
        "    self.conv5 = nn.Conv2d(384, 256, kernel_size=3, stride = 1, padding=1)\n",
        "\n",
        "    self.linear1 = nn.Linear(256 * 3 * 3, 4096)\n",
        "    self.linear2 = nn.Linear(4096, 4096)\n",
        "    self.linear3 = nn.Linear(4096, num_classes)\n",
        "\n",
        "    # self.dropout1 = nn.Dropout(0.5) # drops half of the classes\n",
        "    self.dropout2 = nn.Dropout(0.1)\n",
        "\n",
        "\n",
        "  def forward(self, x):\n",
        "    x = F.max_pool2d(F.leaky_relu(self.conv1(x)), 3, 2)\n",
        "    x = self.dropout2(x)\n",
        "\n",
        "    x = F.max_pool2d(F.leaky_relu(self.conv2(x)), 3, 2)\n",
        "\n",
        "    # x = F.leaky_relu(self.conv3(x))\n",
        "    x = F.leaky_relu(self.conv4(x))\n",
        "    # x = self.dropout2(x)\n",
        "\n",
        "    x = F.max_pool2d(F.leaky_relu(self.conv5(x)), 3, 2)\n",
        "\n",
        "    x = torch.flatten(x, 1)\n",
        "    x = F.leaky_relu(self.linear1(x))\n",
        "    x = self.dropout2(x)\n",
        "\n",
        "    x = F.leaky_relu(self.linear2(x))\n",
        "    x = self.linear3(x)\n",
        "\n",
        "    return x\n",
        "\n",
        "\n",
        "device = 'cuda' if torch.cuda.is_available() else 'cpu'\n",
        "mynet = MyAlexNet(10).to(device)\n",
        "\n",
        "criterion = nn.CrossEntropyLoss()\n",
        "\n",
        "## Baseline network\n",
        "# optimizer = optim.SGD(mynet.parameters(), lr=0.001,  momentum=0.9) # 67%\n",
        "# optimizer = optim.SGD(mynet.parameters(), lr=0.01,   momentum=0.9) # 32%\n",
        "# optimizer = optim.SGD(mynet.parameters(), lr=0.005,  momentum=0.9) # 58%\n",
        "# optimizer = optim.SGD(mynet.parameters(), lr=0.0005, momentum=0.9) # 58%\n",
        "\n",
        "# optimizer = optim.SGD(mynet.parameters(), lr=0.1,    momentum=0.8) # 10% (momentum drop causes network to not learn)\n",
        "\n",
        "params = mynet.parameters()\n",
        "# optimizer = optim.Adam(params, lr=0.00001) # 53%\n",
        "# optimizer = optim.Adam(params, lr=0.01)    # 10%\n",
        "# optimizer = optim.Adam(params, lr=0.00005,  betas=(0.9, 0.999), eps=1e-08, weight_decay=5e-5) # 68% w/ dropout 0.2\n",
        "# optimizer = optim.Adam(params, lr=0.00005,  betas=(0.02, 0.9),  eps=1e-08, weight_decay=5e-5) # 59% w/ dropout 0.2\n",
        "# optimizer = optim.Adam(params, lr=0.00005,  betas=(0.8, 0.999), eps=1e-08, weight_decay=5e-5) # 65% w/ dropout 0.2\n",
        "# optimizer = optim.Adam(params, lr=0.00005,  betas=(0.9, 0.999), eps=1e-08, weight_decay=5e-5) # 68% w/o dropout\n",
        "# optimizer = optim.Adam(params, lr=0.00005,  betas=(0.9, 0.999), eps=1e-08, weight_decay=3e-7) # 68% w/ dropout 0.5\n",
        "# optimizer = optim.Adam(params, lr=0.00005,  betas=(0.9, 0.999), eps=1e-08, weight_decay=3e-7) # 70% w/ dropout 0.10\n",
        "# optimizer = optim.Adam(params, lr=0.0001,   betas=(0.9, 0.999), eps=1e-08, weight_decay=3e-7) # 69% w/ dropout 0.10\n",
        "# optimizer = optim.Adam(params, lr=0.000001, betas=(0.9, 0.999), eps=1e-08, weight_decay=3e-7) # 36% w/ dropout 0.10; loss plateau\n",
        "# optimizer = optim.Adam(params, lr=0.00005, betas=(0.95, 0.999), eps=1e-08, weight_decay=3e-7) # 71% w/ 3x dropout 0.10, 4 hidden layers, loss: 0.850\n",
        "optimizer = optim.Adam(params, lr=0.000075, betas=(0.95, 0.999), eps=1e-08, weight_decay=3e-7) # 72 % w/ 3x dropout 0.10, 4 hidden layers, loss: 0.816\n"
      ]
    },
    {
      "cell_type": "code",
      "source": [
        "print(list(mynet.parameters()))\n",
        "print(list(params))"
      ],
      "metadata": {
        "id": "BPH7OdFgFP4v"
      },
      "execution_count": null,
      "outputs": []
    },
    {
      "cell_type": "code",
      "source": [
        "import torch\n",
        "\n",
        "print(torch.__version__)"
      ],
      "metadata": {
        "colab": {
          "base_uri": "https://localhost:8080/"
        },
        "id": "Bpw9maj3Ngeb",
        "outputId": "d7d2e382-da83-4a9b-e39a-86e2a30a094b"
      },
      "execution_count": null,
      "outputs": [
        {
          "output_type": "stream",
          "name": "stdout",
          "text": [
            "2.0.1+cu118\n"
          ]
        }
      ]
    },
    {
      "cell_type": "code",
      "execution_count": 16,
      "metadata": {
        "colab": {
          "base_uri": "https://localhost:8080/"
        },
        "id": "g5-wL3zZrWsa",
        "outputId": "8ecab096-82e7-49ab-e3f0-1843dbcad4b0"
      },
      "outputs": [
        {
          "output_type": "stream",
          "name": "stdout",
          "text": [
            "[1,  2000] loss: 1.894\n",
            "[1,  4000] loss: 1.539\n",
            "[1,  6000] loss: 1.385\n",
            "[1,  8000] loss: 1.264\n",
            "[1, 10000] loss: 1.174\n",
            "[1, 12000] loss: 1.120\n",
            "[2,  2000] loss: 0.974\n",
            "[2,  4000] loss: 0.934\n",
            "[2,  6000] loss: 0.904\n",
            "[2,  8000] loss: 0.862\n",
            "[2, 10000] loss: 0.840\n",
            "[2, 12000] loss: 0.816\n",
            "Finished Training\n"
          ]
        }
      ],
      "source": [
        "for epoch in range(2):  # 訓練データを複数回(2周分)学習する．\n",
        "\n",
        "    running_loss = 0.0\n",
        "    for i, data in enumerate(trainloader, 0):\n",
        "        # ローダからデータを読み込む; データは [inputs, labels] の形で取得される．\n",
        "        inputs, labels = data\n",
        "\n",
        "        # 勾配を0に初期化する（逆伝播に備える）．\n",
        "        optimizer.zero_grad()\n",
        "\n",
        "        # 順伝播 + 逆伝播 + 最適化\n",
        "        inputs, labels = inputs.to(device), labels.to(device)\n",
        "        outputs = mynet(inputs)\n",
        "\n",
        "        loss = criterion(outputs, labels)\n",
        "        loss.backward()\n",
        "        optimizer.step()\n",
        "\n",
        "        # 統計を表示する．\n",
        "        running_loss += loss.item()\n",
        "        if i % 2000 == 1999:    # 2000 ミニバッチ毎に表示する\n",
        "            print('[%d, %5d] loss: %.3f' %\n",
        "                  (epoch + 1, i + 1, running_loss / 2000))\n",
        "            running_loss = 0.0\n",
        "\n",
        "print('Finished Training')"
      ]
    },
    {
      "cell_type": "code",
      "execution_count": 17,
      "metadata": {
        "id": "CNCdidFmwOl1",
        "colab": {
          "base_uri": "https://localhost:8080/"
        },
        "outputId": "240dbdfa-3385-4a6d-9477-90f1da01da20"
      },
      "outputs": [
        {
          "output_type": "stream",
          "name": "stdout",
          "text": [
            "Accuracy of the network on the 10000 test images: 72 %\n",
            "Accuracy of plane : 55 %\n",
            "Accuracy of   car : 56 %\n",
            "Accuracy of  bird : 39 %\n",
            "Accuracy of   cat : 37 %\n",
            "Accuracy of  deer : 39 %\n",
            "Accuracy of   dog : 47 %\n",
            "Accuracy of  frog : 68 %\n",
            "Accuracy of horse : 56 %\n",
            "Accuracy of  ship : 62 %\n",
            "Accuracy of truck : 56 %\n"
          ]
        }
      ],
      "source": [
        "correct = 0\n",
        "total = 0\n",
        "with torch.no_grad():  #勾配計算をしない宣言（逆伝播用の計算グラフを作成しないことでメモリ節約、速度向上する）\n",
        "    for data in testloader:\n",
        "        images, labels = data\n",
        "        images = images.to(device)\n",
        "        with torch.no_grad():\n",
        "          outputs = mynet(images)\n",
        "        outputs = outputs.cpu()\n",
        "        _, predicted = torch.max(outputs.data, 1)\n",
        "        total += labels.size(0)\n",
        "        correct += (predicted == labels).sum().item()\n",
        "        for i in range(4):\n",
        "            label = labels[i]\n",
        "            class_correct[label] += c[i].item()\n",
        "            class_total[label] += 1\n",
        "\n",
        "print('Accuracy of the network on the 10000 test images: %d %%' % (\n",
        "    100 * correct / total))\n",
        "\n",
        "for i in range(10):\n",
        "    print('Accuracy of %5s : %2d %%' % (\n",
        "        classes[i], 100 * class_correct[i] / class_total[i]))"
      ]
    },
    {
      "cell_type": "markdown",
      "source": [
        "## Optimizerの変更、Dropout層の追加、アーキテクチャサイズの縮小、ハイパーパラメータの広範なチューニングを行った結果、最終的な精度値は**__72%__**でした。\n",
        "\n",
        "* CIFARデータセットでは、収束性に優れていることから、Stochastic Gradient DescentよりもAdamオプティマイザが選択されました。\n",
        "\n",
        "* β1値は0.9ではなく0.95を選択し、最適化を改善する可能性のある最近の勾配を強調するようにした。\n",
        "\n",
        "* 学習率は、ハイパーパラメータのチューニングにより、この値が性能と収束を最適化することが示されたため、0.000075に設定された。\n",
        "\n",
        "* 各隠れ層の間にはドロップアウト層が組み込まれ、学習中にニューロンを選択的に不活性化することでオーバーフィッティングを緩和した。\n",
        "\n",
        "* 第2層のカーネルサイズは、空間情報の取得と計算効率のバランスを取るために、中程度のものを採用した。\n",
        "\n",
        "* また、モデルの複雑さを軽減するため、層数を5層から4層に減らすことで、学習が促進され、オーバーフィッティングのリスクが軽減されました。"
      ],
      "metadata": {
        "id": "g8pxIbK0Gmyn"
      }
    }
  ],
  "metadata": {
    "colab": {
      "machine_shape": "hm",
      "provenance": [],
      "include_colab_link": true
    },
    "kernelspec": {
      "display_name": "Python 3.6.5 64-bit ('pt': conda)",
      "name": "python36564bitptcondaa6a0f022e4d049e4af0126dc758592ac"
    },
    "language_info": {
      "codemirror_mode": {
        "name": "ipython",
        "version": 3
      },
      "file_extension": ".py",
      "mimetype": "text/x-python",
      "name": "python",
      "nbconvert_exporter": "python",
      "pygments_lexer": "ipython3",
      "version": "3.7.2-final"
    }
  },
  "nbformat": 4,
  "nbformat_minor": 0
}