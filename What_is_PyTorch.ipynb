{
  "nbformat": 4,
  "nbformat_minor": 0,
  "metadata": {
    "colab": {
      "provenance": [],
      "machine_shape": "hm",
      "gpuType": "A100",
      "include_colab_link": true
    },
    "kernelspec": {
      "name": "python3",
      "display_name": "Python 3"
    },
    "accelerator": "GPU"
  },
  "cells": [
    {
      "cell_type": "markdown",
      "metadata": {
        "id": "view-in-github",
        "colab_type": "text"
      },
      "source": [
        "<a href=\"https://colab.research.google.com/github/Ohara124c41/Frontier_AI-I/blob/main/What_is_PyTorch.ipynb\" target=\"_parent\"><img src=\"https://colab.research.google.com/assets/colab-badge.svg\" alt=\"Open In Colab\"/></a>"
      ]
    },
    {
      "cell_type": "markdown",
      "metadata": {
        "id": "QDa6ekhTpKS0"
      },
      "source": [
        "# What is PyTorch?\n",
        "\n",
        "このノートブックでは，近年において最も主流な深層学習フレームワークのひとつであるPyTorchについて基本的な事項を説明し，以降で様々なモデルを実装していくための基礎を獲得することを目的とします．\n",
        "# 目次\n",
        "\n",
        "0.   準備\n",
        "1.   テンソル生成方法\n",
        "2.   種々の演算\n",
        "3.   GPUの利用方法\n",
        "\n",
        "\n",
        "\n",
        "\n",
        "\n"
      ]
    },
    {
      "cell_type": "code",
      "source": [
        "from google.colab import drive\n",
        "drive.mount('/content/drive')"
      ],
      "metadata": {
        "colab": {
          "base_uri": "https://localhost:8080/"
        },
        "id": "UAYakThhVdD5",
        "outputId": "1085406e-c888-4549-94c4-1681d3b71ce6"
      },
      "execution_count": 7,
      "outputs": [
        {
          "output_type": "stream",
          "name": "stdout",
          "text": [
            "Drive already mounted at /content/drive; to attempt to forcibly remount, call drive.mount(\"/content/drive\", force_remount=True).\n"
          ]
        }
      ]
    },
    {
      "cell_type": "markdown",
      "metadata": {
        "id": "DgBaszmDrHBg"
      },
      "source": [
        "## 準備\n",
        "**ファイルの設定**　本稿は Google Colabolatory 上で実行されることを想定して作成されています．\n",
        "以降でGPUを用いた演算を解説する際の準備として，はじめにファイルの設定を変更します．\n",
        "\n",
        "本稿を Google Colabolatory 上で開いたのち，上部メニューから「編集」→「ノートブックの設定」を選択し，ハードウェアアクセラレータをGPUに設定してください．この設定変更はそれまでに実行されていたランタイムを初期化するため，必ず最初に行うようにしてください．\n",
        "\n",
        "以降，GPUによる演算が必要なノートブックでは適宜同様の設定を行なってください．\n",
        "\n",
        "**PyTorchのインポート** Google Colabolatory ではPyTorchがあらかじめインストールされています．"
      ]
    },
    {
      "cell_type": "code",
      "metadata": {
        "id": "kowObAdrqbgT",
        "colab": {
          "base_uri": "https://localhost:8080/"
        },
        "outputId": "c16a49dd-6cd0-4f29-976b-8e818a4a947b"
      },
      "source": [
        "import torch                   # PyTorchのインポート\n",
        "print(torch.__version__)       # バージョン確認\n",
        "print(torch.cuda.is_available()) # GPUが正しく利用できるかの確認\n",
        "import numpy as np # numpyのインポート"
      ],
      "execution_count": 8,
      "outputs": [
        {
          "output_type": "stream",
          "name": "stdout",
          "text": [
            "2.0.1+cu118\n",
            "True\n"
          ]
        }
      ]
    },
    {
      "cell_type": "markdown",
      "metadata": {
        "id": "zJtzak4xxCcp"
      },
      "source": [
        "## テンソルの生成方法\n",
        "----\n",
        "**サイズを指定したテンソル生成**\n",
        "\n",
        "任意サイズのテンソルを生成するために，単純に領域を確保することができます．値の初期化はなされません．\n",
        "\n",
        "以下では例としてベクトル・行列・高階テンソルの領域をそれぞれ確保しています．同様に，任意の自然数を列挙することで様々なサイズのテンソルを生成することができます．"
      ]
    },
    {
      "cell_type": "code",
      "metadata": {
        "id": "bHkvmXEwvfAm",
        "colab": {
          "base_uri": "https://localhost:8080/"
        },
        "outputId": "2b9cc2a8-6b4d-4d7d-9eda-ab59ca12e7e3"
      },
      "source": [
        "# 1D vector\n",
        "x = torch.empty(3)\n",
        "print(x)"
      ],
      "execution_count": 9,
      "outputs": [
        {
          "output_type": "stream",
          "name": "stdout",
          "text": [
            "tensor([4.3427e-35, 0.0000e+00, 4.6526e-35])\n"
          ]
        }
      ]
    },
    {
      "cell_type": "code",
      "metadata": {
        "id": "mjYW5kZGBddA",
        "colab": {
          "base_uri": "https://localhost:8080/"
        },
        "outputId": "d158c438-b6d1-4751-8209-4d6a1523af91"
      },
      "source": [
        "# 2D matrix\n",
        "x = torch.empty(2, 3)\n",
        "print(x)"
      ],
      "execution_count": 10,
      "outputs": [
        {
          "output_type": "stream",
          "name": "stdout",
          "text": [
            "tensor([[4.6538e-35, 0.0000e+00, 4.6551e-35],\n",
            "        [0.0000e+00, 0.0000e+00, 0.0000e+00]])\n"
          ]
        }
      ]
    },
    {
      "cell_type": "code",
      "metadata": {
        "id": "AQ8cDn2MBdNL",
        "colab": {
          "base_uri": "https://localhost:8080/"
        },
        "outputId": "3ad1f703-bb5a-4e09-d4e2-56ae5b1c6c45"
      },
      "source": [
        "# 3D tensor\n",
        "x = torch.empty(2, 3, 2)\n",
        "print(x)"
      ],
      "execution_count": 11,
      "outputs": [
        {
          "output_type": "stream",
          "name": "stdout",
          "text": [
            "tensor([[[ 0.0000e+00,  0.0000e+00],\n",
            "         [ 0.0000e+00,  0.0000e+00],\n",
            "         [ 4.6553e-35,  0.0000e+00]],\n",
            "\n",
            "        [[ 5.0383e-36,  0.0000e+00],\n",
            "         [-1.5124e+29,  4.5818e-41],\n",
            "         [ 0.0000e+00,  0.0000e+00]]])\n"
          ]
        }
      ]
    },
    {
      "cell_type": "markdown",
      "metadata": {
        "id": "nTrmMzoC0mlh"
      },
      "source": [
        "生成したテンソルのサイズは以下のように確認することができます．"
      ]
    },
    {
      "cell_type": "code",
      "metadata": {
        "id": "yt4ZEEZ60m6N",
        "colab": {
          "base_uri": "https://localhost:8080/"
        },
        "outputId": "c8ac148d-b82e-4ba2-bd47-0f62b35ed4d2"
      },
      "source": [
        "print(x.size())  # テンソルのサイズを取得\n",
        "print(x.size(0)) # テンソルの0次元目のサイズを取得"
      ],
      "execution_count": 12,
      "outputs": [
        {
          "output_type": "stream",
          "name": "stdout",
          "text": [
            "torch.Size([2, 3, 2])\n",
            "2\n"
          ]
        }
      ]
    },
    {
      "cell_type": "markdown",
      "metadata": {
        "id": "qcw8ueee94pl"
      },
      "source": [
        "また，0や1などの特定の値や任意の値で埋めたテンソルを生成することができます．"
      ]
    },
    {
      "cell_type": "code",
      "metadata": {
        "id": "70bf7d8J-Cb9",
        "colab": {
          "base_uri": "https://localhost:8080/"
        },
        "outputId": "2e5c908b-aafa-4aa9-e83b-2d2055adca1c"
      },
      "source": [
        "# 0で埋める\n",
        "x = torch.zeros(2, 2)\n",
        "print(x)"
      ],
      "execution_count": 13,
      "outputs": [
        {
          "output_type": "stream",
          "name": "stdout",
          "text": [
            "tensor([[0., 0.],\n",
            "        [0., 0.]])\n"
          ]
        }
      ]
    },
    {
      "cell_type": "code",
      "metadata": {
        "id": "-1Tj8WJKBvDC",
        "colab": {
          "base_uri": "https://localhost:8080/"
        },
        "outputId": "a461ade0-9aa8-4a4e-efec-db2d28c0a89e"
      },
      "source": [
        "# 1で埋める\n",
        "x = torch.ones(2, 2)\n",
        "print(x)"
      ],
      "execution_count": 14,
      "outputs": [
        {
          "output_type": "stream",
          "name": "stdout",
          "text": [
            "tensor([[1., 1.],\n",
            "        [1., 1.]])\n"
          ]
        }
      ]
    },
    {
      "cell_type": "code",
      "metadata": {
        "id": "NUqHd2ZVBxTl",
        "colab": {
          "base_uri": "https://localhost:8080/"
        },
        "outputId": "4f9c5e27-f194-4c03-ae0e-df7107c47b3d"
      },
      "source": [
        "# 任意の値（ここでは3.1415）で埋める\n",
        "x = torch.full((2, 2), 3.1415)\n",
        "print(x)"
      ],
      "execution_count": 15,
      "outputs": [
        {
          "output_type": "stream",
          "name": "stdout",
          "text": [
            "tensor([[3.1415, 3.1415],\n",
            "        [3.1415, 3.1415]])\n"
          ]
        }
      ]
    },
    {
      "cell_type": "markdown",
      "metadata": {
        "id": "Gj8A_YHd_Ah6"
      },
      "source": [
        "乱数によって初期化されたテンソルを生成することもできます．"
      ]
    },
    {
      "cell_type": "code",
      "metadata": {
        "id": "oDt4EAAO-O8r",
        "colab": {
          "base_uri": "https://localhost:8080/"
        },
        "outputId": "cb33b8c6-d65d-453d-d23a-487fd773bd8b"
      },
      "source": [
        "# 標準正規分布で初期化\n",
        "x = torch.randn(2, 2)\n",
        "print(x)"
      ],
      "execution_count": 16,
      "outputs": [
        {
          "output_type": "stream",
          "name": "stdout",
          "text": [
            "tensor([[ 1.4816, -1.1831],\n",
            "        [-0.5222,  2.1324]])\n"
          ]
        }
      ]
    },
    {
      "cell_type": "code",
      "metadata": {
        "id": "QVMJKB5nB3UU",
        "colab": {
          "base_uri": "https://localhost:8080/"
        },
        "outputId": "2e6a551f-9cff-4d07-9542-14e4fce7db4d"
      },
      "source": [
        "# 0~1の一様分布で初期化\n",
        "x = torch.rand(2, 2)\n",
        "print(x)"
      ],
      "execution_count": 17,
      "outputs": [
        {
          "output_type": "stream",
          "name": "stdout",
          "text": [
            "tensor([[0.5087, 0.6844],\n",
            "        [0.7508, 0.1236]])\n"
          ]
        }
      ]
    },
    {
      "cell_type": "markdown",
      "metadata": {
        "id": "dMOLmeta_d3Z"
      },
      "source": [
        "----\n",
        "**リストやnumpy.ndarrayからの変換**\n",
        "\n",
        "あらかじめ定めた要素値によりテンソルを生成したい場合は，次のようにして実現できます．"
      ]
    },
    {
      "cell_type": "code",
      "metadata": {
        "id": "SgInInic_OTu",
        "colab": {
          "base_uri": "https://localhost:8080/"
        },
        "outputId": "dd5431a7-dc76-41d8-e0be-840d72d72032"
      },
      "source": [
        "# リストから生成\n",
        "x = torch.tensor([[1., 2., 3.], [4., 5., 6.]])\n",
        "print(x)"
      ],
      "execution_count": 18,
      "outputs": [
        {
          "output_type": "stream",
          "name": "stdout",
          "text": [
            "tensor([[1., 2., 3.],\n",
            "        [4., 5., 6.]])\n"
          ]
        }
      ]
    },
    {
      "cell_type": "markdown",
      "metadata": {
        "id": "_vWNch-xC61n"
      },
      "source": [
        "また，NumPy上でなんらかの計算を施した既存のndarrayをPyTorch上で利用したい場合も，同様のメソッドを用いることが可能です．このとき，ndarrayに設定されていた数値型がそのまま引き継がれます．\n",
        "\n",
        "なお，print文による表示桁数は丸められてしまいますが，各要素には確かに数値型に対応する精度の数値が格納されています．"
      ]
    },
    {
      "cell_type": "code",
      "metadata": {
        "id": "TNYRnWUfDbDH",
        "colab": {
          "base_uri": "https://localhost:8080/"
        },
        "outputId": "a8d62276-30eb-4f3a-fca1-fc70a0d63dfe"
      },
      "source": [
        "# 既存のndarrayとして準備\n",
        "a = np.random.randn(3, 2)\n",
        "print(a)\n",
        "print(a.dtype)"
      ],
      "execution_count": 19,
      "outputs": [
        {
          "output_type": "stream",
          "name": "stdout",
          "text": [
            "[[ 0.41694637  0.31360781]\n",
            " [ 1.14116251 -1.28519308]\n",
            " [-0.49570746 -1.41118329]]\n",
            "float64\n"
          ]
        }
      ]
    },
    {
      "cell_type": "code",
      "metadata": {
        "id": "oJOvBSGKEsh_",
        "colab": {
          "base_uri": "https://localhost:8080/"
        },
        "outputId": "b5146a66-f9b0-4648-81b3-5c0682733ee5"
      },
      "source": [
        "# numpy.ndarrayから生成\n",
        "x = torch.tensor(a)\n",
        "print(x)"
      ],
      "execution_count": 20,
      "outputs": [
        {
          "output_type": "stream",
          "name": "stdout",
          "text": [
            "tensor([[ 0.4169,  0.3136],\n",
            "        [ 1.1412, -1.2852],\n",
            "        [-0.4957, -1.4112]], dtype=torch.float64)\n"
          ]
        }
      ]
    },
    {
      "cell_type": "markdown",
      "metadata": {
        "id": "BBz9Uv8RTvNV"
      },
      "source": [
        "----\n",
        "**要素の取り出し**\n",
        "リストやNumPyのndarrayと同様，スライスにより要素を取り出すことができます．"
      ]
    },
    {
      "cell_type": "code",
      "metadata": {
        "id": "rJNfTr2GEvkh",
        "colab": {
          "base_uri": "https://localhost:8080/"
        },
        "outputId": "12de6e3d-aef7-49af-a8b7-6738f327e2d6"
      },
      "source": [
        "# 要素の取り出し\n",
        "print(x[:2, :])\n",
        "print(x[0, [1, 0]])"
      ],
      "execution_count": 21,
      "outputs": [
        {
          "output_type": "stream",
          "name": "stdout",
          "text": [
            "tensor([[ 0.4169,  0.3136],\n",
            "        [ 1.1412, -1.2852]], dtype=torch.float64)\n",
            "tensor([0.3136, 0.4169], dtype=torch.float64)\n"
          ]
        }
      ]
    },
    {
      "cell_type": "code",
      "metadata": {
        "id": "pXi4hzshUB57",
        "colab": {
          "base_uri": "https://localhost:8080/"
        },
        "outputId": "1401681b-f033-4029-8471-2e3bbb7ce9cc"
      },
      "source": [
        "# 1要素のテンソルを単なるスカラー値に変換するために item を用いることができる\n",
        "print(x[0, 0].item())"
      ],
      "execution_count": 22,
      "outputs": [
        {
          "output_type": "stream",
          "name": "stdout",
          "text": [
            "0.4169463719372803\n"
          ]
        }
      ]
    },
    {
      "cell_type": "markdown",
      "metadata": {
        "id": "UnqXTpxn_78g"
      },
      "source": [
        "----\n",
        "**数値型**\n",
        "\n",
        "PyTorchにもNumPyと同様に数値型の概念が存在します．数値型はテンソル生成時に指定できるほか，一度生成したテンソルを別の型に変換することもできます．\n",
        "\n",
        "指定しない場合は基本的にfloat型とみなされます．よく用いられる型はfloat型およびlong型です．"
      ]
    },
    {
      "cell_type": "code",
      "metadata": {
        "id": "aGsF6kNk_0MN",
        "colab": {
          "base_uri": "https://localhost:8080/"
        },
        "outputId": "08fe6597-cfe2-4c83-8528-fad127c1d77d"
      },
      "source": [
        "# dtypeを指定することによるfloat型での生成（numpy.float32に対応）\n",
        "x = torch.ones(2, 2, dtype=torch.float)\n",
        "print(x)"
      ],
      "execution_count": 23,
      "outputs": [
        {
          "output_type": "stream",
          "name": "stdout",
          "text": [
            "tensor([[1., 1.],\n",
            "        [1., 1.]])\n"
          ]
        }
      ]
    },
    {
      "cell_type": "markdown",
      "metadata": {
        "id": "45xXfGskEB4y"
      },
      "source": [
        "既存のリストやnumpy.ndarrayを明示的にtorch.float型のテンソルへ変換することもできます．"
      ]
    },
    {
      "cell_type": "code",
      "metadata": {
        "id": "ceqtnWy4EKB1",
        "colab": {
          "base_uri": "https://localhost:8080/"
        },
        "outputId": "dc58ddf7-0e87-4145-9af5-79f5e1fa917c"
      },
      "source": [
        "# 先ほど用意した既存のndarray\n",
        "print(a)\n",
        "print(a.dtype)"
      ],
      "execution_count": 24,
      "outputs": [
        {
          "output_type": "stream",
          "name": "stdout",
          "text": [
            "[[ 0.41694637  0.31360781]\n",
            " [ 1.14116251 -1.28519308]\n",
            " [-0.49570746 -1.41118329]]\n",
            "float64\n"
          ]
        }
      ]
    },
    {
      "cell_type": "code",
      "metadata": {
        "id": "Of8qtCn7F0BP",
        "colab": {
          "base_uri": "https://localhost:8080/"
        },
        "outputId": "8fdacd85-94f0-4cfe-fa98-bf6d43d82197"
      },
      "source": [
        "# numpy.ndarrayからtorch.floatのテンソルを生成\n",
        "x = torch.FloatTensor(a)\n",
        "print(x)\n",
        "print(x.dtype)"
      ],
      "execution_count": 25,
      "outputs": [
        {
          "output_type": "stream",
          "name": "stdout",
          "text": [
            "tensor([[ 0.4169,  0.3136],\n",
            "        [ 1.1412, -1.2852],\n",
            "        [-0.4957, -1.4112]])\n",
            "torch.float32\n"
          ]
        }
      ]
    },
    {
      "cell_type": "code",
      "metadata": {
        "id": "FKpP0ozMAxp8",
        "colab": {
          "base_uri": "https://localhost:8080/"
        },
        "outputId": "aa6eac03-985e-4faa-d1fd-554fc903e973"
      },
      "source": [
        "# dtypeを指定することによるlong型での生成（numpy.int64に対応）\n",
        "x = torch.ones(2, 2, dtype=torch.long)\n",
        "print(x)"
      ],
      "execution_count": 26,
      "outputs": [
        {
          "output_type": "stream",
          "name": "stdout",
          "text": [
            "tensor([[1, 1],\n",
            "        [1, 1]])\n"
          ]
        }
      ]
    },
    {
      "cell_type": "markdown",
      "metadata": {
        "id": "BlY55O7bF5YC"
      },
      "source": [
        "同様に，既存のリストやnumpy.ndarrayを明示的にtorch.long型のテンソルへ変換することができます．"
      ]
    },
    {
      "cell_type": "code",
      "metadata": {
        "id": "Qwu9eHwFGA2W",
        "colab": {
          "base_uri": "https://localhost:8080/"
        },
        "outputId": "0440ebf3-6be9-40f2-d566-80e6730280d7"
      },
      "source": [
        "# numpy.ndarrayからtorch.longのテンソルを生成\n",
        "x = torch.LongTensor(a)\n",
        "print(x)\n",
        "print(x.dtype)"
      ],
      "execution_count": 27,
      "outputs": [
        {
          "output_type": "stream",
          "name": "stdout",
          "text": [
            "tensor([[ 0,  0],\n",
            "        [ 1, -1],\n",
            "        [ 0, -1]])\n",
            "torch.int64\n"
          ]
        }
      ]
    },
    {
      "cell_type": "code",
      "metadata": {
        "id": "rmZhZG08CDHH",
        "colab": {
          "base_uri": "https://localhost:8080/"
        },
        "outputId": "87a10d51-9cb4-49d9-a173-1e184eae1484"
      },
      "source": [
        "# torch.floatからtorch.longへの変換\n",
        "f = torch.randn(4, 4)\n",
        "print(f)"
      ],
      "execution_count": 28,
      "outputs": [
        {
          "output_type": "stream",
          "name": "stdout",
          "text": [
            "tensor([[ 1.0541,  1.0635,  0.7085, -1.0122],\n",
            "        [ 0.4525, -0.8827,  1.7470,  0.9779],\n",
            "        [ 0.0768, -0.9635, -0.2404,  0.6295],\n",
            "        [-0.6970, -0.5757, -0.5014, -0.3381]])\n"
          ]
        }
      ]
    },
    {
      "cell_type": "code",
      "metadata": {
        "id": "s1WUzZdxIL91",
        "colab": {
          "base_uri": "https://localhost:8080/"
        },
        "outputId": "24700eb4-9988-46f9-e510-740c87a6f9b9"
      },
      "source": [
        "l = f.long()\n",
        "print(l)"
      ],
      "execution_count": 29,
      "outputs": [
        {
          "output_type": "stream",
          "name": "stdout",
          "text": [
            "tensor([[ 1,  1,  0, -1],\n",
            "        [ 0,  0,  1,  0],\n",
            "        [ 0,  0,  0,  0],\n",
            "        [ 0,  0,  0,  0]])\n"
          ]
        }
      ]
    },
    {
      "cell_type": "code",
      "metadata": {
        "id": "9Xg-Z1erCET3",
        "colab": {
          "base_uri": "https://localhost:8080/"
        },
        "outputId": "e83ba775-b614-4700-f272-5b86e450e8ec"
      },
      "source": [
        "# torch.longからtorch.floatへの変換\n",
        "f2 = l.float()\n",
        "print(f2)"
      ],
      "execution_count": 30,
      "outputs": [
        {
          "output_type": "stream",
          "name": "stdout",
          "text": [
            "tensor([[ 1.,  1.,  0., -1.],\n",
            "        [ 0.,  0.,  1.,  0.],\n",
            "        [ 0.,  0.,  0.,  0.],\n",
            "        [ 0.,  0.,  0.,  0.]])\n"
          ]
        }
      ]
    },
    {
      "cell_type": "markdown",
      "metadata": {
        "id": "DM1fGA1UIuk2"
      },
      "source": [
        "---\n",
        "**既存のテンソルと同サイズのテンソル生成**\n",
        "\n",
        "様々なアルゴリズムを実装していくにあたり，同サイズのテンソルを複数用意して演算を行うという場面は頻出します．そこでPyTorchには，あるテンソルを基準に同サイズのテンソルを簡単に生成できるようにするための機能が備わっています．\n",
        "\n",
        "これにより，全てのテンソルに同じサイズを明示的に割り当てるコードを書く冗長性の排除や，テンソルサイズを可変にしてもコードの見通しが良くなるといった利点が生まれます．"
      ]
    },
    {
      "cell_type": "code",
      "metadata": {
        "id": "wfPF212ZCOU4",
        "colab": {
          "base_uri": "https://localhost:8080/"
        },
        "outputId": "ae210e0c-0a06-4b80-911f-cb2a0113c883"
      },
      "source": [
        "# 既存テンソル\n",
        "x = torch.empty(2, 5, 2)\n",
        "print(x.size())"
      ],
      "execution_count": 31,
      "outputs": [
        {
          "output_type": "stream",
          "name": "stdout",
          "text": [
            "torch.Size([2, 5, 2])\n"
          ]
        }
      ]
    },
    {
      "cell_type": "code",
      "metadata": {
        "id": "kYbXBUpaKEwz",
        "colab": {
          "base_uri": "https://localhost:8080/"
        },
        "outputId": "9d9f95cf-34e9-416d-d092-e48f28a87831"
      },
      "source": [
        "# xと同サイズの0埋めテンソルを生成\n",
        "y = torch.zeros_like(x)\n",
        "print(y)"
      ],
      "execution_count": 32,
      "outputs": [
        {
          "output_type": "stream",
          "name": "stdout",
          "text": [
            "tensor([[[0., 0.],\n",
            "         [0., 0.],\n",
            "         [0., 0.],\n",
            "         [0., 0.],\n",
            "         [0., 0.]],\n",
            "\n",
            "        [[0., 0.],\n",
            "         [0., 0.],\n",
            "         [0., 0.],\n",
            "         [0., 0.],\n",
            "         [0., 0.]]])\n"
          ]
        }
      ]
    },
    {
      "cell_type": "code",
      "metadata": {
        "id": "8wkdLP0OKMba",
        "colab": {
          "base_uri": "https://localhost:8080/"
        },
        "outputId": "175747d6-fca9-4463-84b4-df5212dba9c3"
      },
      "source": [
        "# xと同サイズの1埋めテンソルを生成\n",
        "y = torch.ones_like(x)\n",
        "print(y)"
      ],
      "execution_count": 33,
      "outputs": [
        {
          "output_type": "stream",
          "name": "stdout",
          "text": [
            "tensor([[[1., 1.],\n",
            "         [1., 1.],\n",
            "         [1., 1.],\n",
            "         [1., 1.],\n",
            "         [1., 1.]],\n",
            "\n",
            "        [[1., 1.],\n",
            "         [1., 1.],\n",
            "         [1., 1.],\n",
            "         [1., 1.],\n",
            "         [1., 1.]]])\n"
          ]
        }
      ]
    },
    {
      "cell_type": "code",
      "metadata": {
        "id": "rVv0Qen2KQMW",
        "colab": {
          "base_uri": "https://localhost:8080/"
        },
        "outputId": "50f96f15-a4dd-4dc6-a019-2243ee831f0a"
      },
      "source": [
        "# xと同サイズで任意の値で埋めたテンソルを生成\n",
        "y = torch.full_like(x, 3.1415)\n",
        "print(y)"
      ],
      "execution_count": 34,
      "outputs": [
        {
          "output_type": "stream",
          "name": "stdout",
          "text": [
            "tensor([[[3.1415, 3.1415],\n",
            "         [3.1415, 3.1415],\n",
            "         [3.1415, 3.1415],\n",
            "         [3.1415, 3.1415],\n",
            "         [3.1415, 3.1415]],\n",
            "\n",
            "        [[3.1415, 3.1415],\n",
            "         [3.1415, 3.1415],\n",
            "         [3.1415, 3.1415],\n",
            "         [3.1415, 3.1415],\n",
            "         [3.1415, 3.1415]]])\n"
          ]
        }
      ]
    },
    {
      "cell_type": "code",
      "metadata": {
        "id": "QTNdTeApKWc_",
        "colab": {
          "base_uri": "https://localhost:8080/"
        },
        "outputId": "5f3d0433-8619-4886-9a8a-389739177621"
      },
      "source": [
        "# xと同サイズで標準正規分布で初期化されたテンソルを生成\n",
        "y = torch.randn_like(x)\n",
        "print(y)"
      ],
      "execution_count": 35,
      "outputs": [
        {
          "output_type": "stream",
          "name": "stdout",
          "text": [
            "tensor([[[ 0.0695, -0.7706],\n",
            "         [-0.3700,  0.4894],\n",
            "         [ 0.1749, -0.1102],\n",
            "         [ 0.2061,  0.5465],\n",
            "         [ 0.7068,  0.8311]],\n",
            "\n",
            "        [[ 1.3112,  0.4898],\n",
            "         [-2.1489, -0.4652],\n",
            "         [ 0.3537,  1.0375],\n",
            "         [ 1.5873,  2.0786],\n",
            "         [-0.0347,  0.5039]]])\n"
          ]
        }
      ]
    },
    {
      "cell_type": "code",
      "metadata": {
        "id": "7Hc3bvL3KclU",
        "colab": {
          "base_uri": "https://localhost:8080/"
        },
        "outputId": "b855b998-940b-485b-fb6c-0c041704db14"
      },
      "source": [
        "# xと同サイズで0~1の一様分布で初期化されたテンソルを生成\n",
        "y = torch.rand_like(x)\n",
        "print(y)"
      ],
      "execution_count": 36,
      "outputs": [
        {
          "output_type": "stream",
          "name": "stdout",
          "text": [
            "tensor([[[0.1848, 0.8811],\n",
            "         [0.4913, 0.4113],\n",
            "         [0.1918, 0.6234],\n",
            "         [0.0534, 0.2755],\n",
            "         [0.9015, 0.6984]],\n",
            "\n",
            "        [[0.0720, 0.8044],\n",
            "         [0.2971, 0.4188],\n",
            "         [0.6909, 0.6690],\n",
            "         [0.6167, 0.2208],\n",
            "         [0.1012, 0.7863]]])\n"
          ]
        }
      ]
    },
    {
      "cell_type": "markdown",
      "metadata": {
        "id": "LGbfayJvQAzo"
      },
      "source": [
        "## 種々の演算\n",
        "----\n",
        "**四則演算**　基礎的な四則演算をテンソル同士で行うことができます．"
      ]
    },
    {
      "cell_type": "code",
      "metadata": {
        "id": "zfcK-JbHQWhX",
        "colab": {
          "base_uri": "https://localhost:8080/"
        },
        "outputId": "c8565861-4665-4361-8527-2aa780805c41"
      },
      "source": [
        "# テンソルの準備\n",
        "x = torch.randn(1, 2)\n",
        "y = torch.randn(1, 2)\n",
        "print(x)\n",
        "print(y)"
      ],
      "execution_count": 37,
      "outputs": [
        {
          "output_type": "stream",
          "name": "stdout",
          "text": [
            "tensor([[-0.1633,  0.1147]])\n",
            "tensor([[ 1.3723, -0.5154]])\n"
          ]
        }
      ]
    },
    {
      "cell_type": "code",
      "metadata": {
        "id": "AXCR4NEtKgiY",
        "colab": {
          "base_uri": "https://localhost:8080/"
        },
        "outputId": "4a9bd7c3-ef85-4a5c-ca7a-8b6af11b0c3f"
      },
      "source": [
        "# 加算\n",
        "z = x + y\n",
        "print(z)"
      ],
      "execution_count": 38,
      "outputs": [
        {
          "output_type": "stream",
          "name": "stdout",
          "text": [
            "tensor([[ 1.2090, -0.4007]])\n"
          ]
        }
      ]
    },
    {
      "cell_type": "code",
      "metadata": {
        "id": "nsufpFSjQk0t",
        "colab": {
          "base_uri": "https://localhost:8080/"
        },
        "outputId": "915d191a-d77c-43a6-860a-6ce1057dc1ba"
      },
      "source": [
        "# 減算\n",
        "z = x - y\n",
        "print(z)"
      ],
      "execution_count": 39,
      "outputs": [
        {
          "output_type": "stream",
          "name": "stdout",
          "text": [
            "tensor([[-1.5357,  0.6302]])\n"
          ]
        }
      ]
    },
    {
      "cell_type": "code",
      "metadata": {
        "id": "AoHHILGWQny0",
        "colab": {
          "base_uri": "https://localhost:8080/"
        },
        "outputId": "21d7c35a-8552-4808-cd86-df8dd8019b90"
      },
      "source": [
        "# 要素ごとの乗算\n",
        "z = x * y\n",
        "print(z)"
      ],
      "execution_count": 40,
      "outputs": [
        {
          "output_type": "stream",
          "name": "stdout",
          "text": [
            "tensor([[-0.2241, -0.0591]])\n"
          ]
        }
      ]
    },
    {
      "cell_type": "code",
      "metadata": {
        "id": "e4T5cmZTQqvt",
        "colab": {
          "base_uri": "https://localhost:8080/"
        },
        "outputId": "4d48ea56-34bf-40e5-820e-ef285c9f0889"
      },
      "source": [
        "# 要素ごとの除算\n",
        "z = x / y\n",
        "print(z)"
      ],
      "execution_count": 41,
      "outputs": [
        {
          "output_type": "stream",
          "name": "stdout",
          "text": [
            "tensor([[-0.1190, -0.2226]])\n"
          ]
        }
      ]
    },
    {
      "cell_type": "code",
      "metadata": {
        "id": "XetEF1ROB4IW",
        "colab": {
          "base_uri": "https://localhost:8080/"
        },
        "outputId": "e4160a7f-77f1-4bf5-a424-1206eaf9c33d"
      },
      "source": [
        "# 冪乗\n",
        "z = x**2\n",
        "print(z)"
      ],
      "execution_count": 42,
      "outputs": [
        {
          "output_type": "stream",
          "name": "stdout",
          "text": [
            "tensor([[0.0267, 0.0132]])\n"
          ]
        }
      ]
    },
    {
      "cell_type": "markdown",
      "metadata": {
        "id": "dc3fBH_oDOU1"
      },
      "source": [
        "---\n",
        "**利用可能な数学関数** 様々な数学関数や集計関数が利用できます"
      ]
    },
    {
      "cell_type": "code",
      "metadata": {
        "id": "912DynDs4bkS",
        "colab": {
          "base_uri": "https://localhost:8080/"
        },
        "outputId": "3c198738-6b5b-453f-b684-d14daa9d2ee7"
      },
      "source": [
        "x = torch.randn(1,2)\n",
        "print(x)"
      ],
      "execution_count": 43,
      "outputs": [
        {
          "output_type": "stream",
          "name": "stdout",
          "text": [
            "tensor([[-1.6013, -1.7426]])\n"
          ]
        }
      ]
    },
    {
      "cell_type": "code",
      "metadata": {
        "id": "vNfGvMgDDrB3",
        "colab": {
          "base_uri": "https://localhost:8080/"
        },
        "outputId": "fd596a89-b824-4bc1-de4e-efa299904bc5"
      },
      "source": [
        "# 要素ごとの絶対値\n",
        "z = torch.abs(x)\n",
        "print(z)"
      ],
      "execution_count": 44,
      "outputs": [
        {
          "output_type": "stream",
          "name": "stdout",
          "text": [
            "tensor([[1.6013, 1.7426]])\n"
          ]
        }
      ]
    },
    {
      "cell_type": "code",
      "metadata": {
        "id": "-JTLIog9D3-p",
        "colab": {
          "base_uri": "https://localhost:8080/"
        },
        "outputId": "46bebdbc-6dac-4762-e9d2-a19baa89e344"
      },
      "source": [
        "# 要素ごとに三角関数を適用\n",
        "z = torch.sin(x)\n",
        "print(z)"
      ],
      "execution_count": 45,
      "outputs": [
        {
          "output_type": "stream",
          "name": "stdout",
          "text": [
            "tensor([[-0.9995, -0.9853]])\n"
          ]
        }
      ]
    },
    {
      "cell_type": "code",
      "metadata": {
        "id": "bsdix4uNEB4X",
        "colab": {
          "base_uri": "https://localhost:8080/"
        },
        "outputId": "40c52d6f-ae2f-44c3-f7c3-24c113c8ae17"
      },
      "source": [
        "# 要素ごとに指数関数を適用\n",
        "z = torch.exp(x)\n",
        "print(z)\n",
        "\n",
        "# 要素ごとに対数関数を適用\n",
        "z = torch.log(x)\n",
        "print(x)"
      ],
      "execution_count": 46,
      "outputs": [
        {
          "output_type": "stream",
          "name": "stdout",
          "text": [
            "tensor([[0.2016, 0.1751]])\n",
            "tensor([[-1.6013, -1.7426]])\n"
          ]
        }
      ]
    },
    {
      "cell_type": "code",
      "metadata": {
        "id": "RWptHNzlEg97",
        "colab": {
          "base_uri": "https://localhost:8080/"
        },
        "outputId": "09e30cc4-3e03-4a69-c2e4-7728ffa9421d"
      },
      "source": [
        "# 合計\n",
        "z = torch.sum(x)\n",
        "print(z)\n",
        "# 最大値\n",
        "z = torch.max(x)\n",
        "print(z)\n",
        "# 平均\n",
        "z = torch.mean(x)\n",
        "print(z)"
      ],
      "execution_count": 47,
      "outputs": [
        {
          "output_type": "stream",
          "name": "stdout",
          "text": [
            "tensor(-3.3439)\n",
            "tensor(-1.6013)\n",
            "tensor(-1.6719)\n"
          ]
        }
      ]
    },
    {
      "cell_type": "markdown",
      "metadata": {
        "id": "wbC_f-zsXn_A"
      },
      "source": [
        "----\n",
        "**テンソルサイズの変更**　\n",
        "PyTorchのテンソルサイズはviewを用いて任意に整形できます．"
      ]
    },
    {
      "cell_type": "code",
      "metadata": {
        "id": "69p13XNAZ-C7",
        "colab": {
          "base_uri": "https://localhost:8080/"
        },
        "outputId": "225af837-aaab-4e72-8d51-81896fb8f273"
      },
      "source": [
        "x = torch.randn(2, 3, 4)\n",
        "print(x)\n",
        "print(x.size())"
      ],
      "execution_count": 48,
      "outputs": [
        {
          "output_type": "stream",
          "name": "stdout",
          "text": [
            "tensor([[[-1.5725,  0.3219, -1.1844,  0.7423],\n",
            "         [-0.2702,  0.3092, -0.6425, -0.2409],\n",
            "         [ 0.6757, -1.3511,  0.4156, -1.8324]],\n",
            "\n",
            "        [[-0.5003,  0.2482,  0.5562,  1.0962],\n",
            "         [ 1.7739, -0.1491, -0.2732, -1.1350],\n",
            "         [-0.8487,  0.6569, -1.6491,  2.0404]]])\n",
            "torch.Size([2, 3, 4])\n"
          ]
        }
      ]
    },
    {
      "cell_type": "code",
      "metadata": {
        "id": "SScPttVBaEMQ",
        "colab": {
          "base_uri": "https://localhost:8080/"
        },
        "outputId": "a235bf36-39f2-40c5-d31b-ce74147c4e02"
      },
      "source": [
        "y = x.view(6, 4)\n",
        "print(y)\n",
        "print(y.size())"
      ],
      "execution_count": 49,
      "outputs": [
        {
          "output_type": "stream",
          "name": "stdout",
          "text": [
            "tensor([[-1.5725,  0.3219, -1.1844,  0.7423],\n",
            "        [-0.2702,  0.3092, -0.6425, -0.2409],\n",
            "        [ 0.6757, -1.3511,  0.4156, -1.8324],\n",
            "        [-0.5003,  0.2482,  0.5562,  1.0962],\n",
            "        [ 1.7739, -0.1491, -0.2732, -1.1350],\n",
            "        [-0.8487,  0.6569, -1.6491,  2.0404]])\n",
            "torch.Size([6, 4])\n"
          ]
        }
      ]
    },
    {
      "cell_type": "code",
      "metadata": {
        "id": "c80ltBCzaJ9K",
        "colab": {
          "base_uri": "https://localhost:8080/"
        },
        "outputId": "f0d051a6-029b-41de-cfae-d8c183c7b1d3"
      },
      "source": [
        "# -1を指定すると整合するように自動で整数を推定してくれる\n",
        "y = x.view(1, 2, -1, 2, 2)\n",
        "print(y)\n",
        "print(y.size())"
      ],
      "execution_count": 50,
      "outputs": [
        {
          "output_type": "stream",
          "name": "stdout",
          "text": [
            "tensor([[[[[-1.5725,  0.3219],\n",
            "           [-1.1844,  0.7423]],\n",
            "\n",
            "          [[-0.2702,  0.3092],\n",
            "           [-0.6425, -0.2409]],\n",
            "\n",
            "          [[ 0.6757, -1.3511],\n",
            "           [ 0.4156, -1.8324]]],\n",
            "\n",
            "\n",
            "         [[[-0.5003,  0.2482],\n",
            "           [ 0.5562,  1.0962]],\n",
            "\n",
            "          [[ 1.7739, -0.1491],\n",
            "           [-0.2732, -1.1350]],\n",
            "\n",
            "          [[-0.8487,  0.6569],\n",
            "           [-1.6491,  2.0404]]]]])\n",
            "torch.Size([1, 2, 3, 2, 2])\n"
          ]
        }
      ]
    },
    {
      "cell_type": "markdown",
      "metadata": {
        "id": "tKO2wlMzaQRl"
      },
      "source": [
        "**軸の入れ替え**　テンソルにおける任意の2軸の順番を入れ替えることができます．"
      ]
    },
    {
      "cell_type": "code",
      "metadata": {
        "id": "JJ2uKmx_aW7g",
        "colab": {
          "base_uri": "https://localhost:8080/"
        },
        "outputId": "220f37ef-35da-44e1-9b65-04a8212ed34e"
      },
      "source": [
        "y = x.transpose(2, 0)\n",
        "print(y)\n",
        "print(y.size())"
      ],
      "execution_count": 51,
      "outputs": [
        {
          "output_type": "stream",
          "name": "stdout",
          "text": [
            "tensor([[[-1.5725, -0.5003],\n",
            "         [-0.2702,  1.7739],\n",
            "         [ 0.6757, -0.8487]],\n",
            "\n",
            "        [[ 0.3219,  0.2482],\n",
            "         [ 0.3092, -0.1491],\n",
            "         [-1.3511,  0.6569]],\n",
            "\n",
            "        [[-1.1844,  0.5562],\n",
            "         [-0.6425, -0.2732],\n",
            "         [ 0.4156, -1.6491]],\n",
            "\n",
            "        [[ 0.7423,  1.0962],\n",
            "         [-0.2409, -1.1350],\n",
            "         [-1.8324,  2.0404]]])\n",
            "torch.Size([4, 3, 2])\n"
          ]
        }
      ]
    },
    {
      "cell_type": "markdown",
      "metadata": {
        "id": "opQRlPyIbD6a"
      },
      "source": [
        "2次元行列の場合は単純に転置することも可能です．"
      ]
    },
    {
      "cell_type": "code",
      "metadata": {
        "id": "6bReYdUIbJQb",
        "colab": {
          "base_uri": "https://localhost:8080/"
        },
        "outputId": "3c0d3763-8513-47f5-f411-141a2f6c305e"
      },
      "source": [
        "m = torch.randn(3, 2)\n",
        "print(m)\n",
        "print(m.size())"
      ],
      "execution_count": 52,
      "outputs": [
        {
          "output_type": "stream",
          "name": "stdout",
          "text": [
            "tensor([[ 0.9446, -1.7339],\n",
            "        [-0.4826,  0.1075],\n",
            "        [-1.2095,  0.6240]])\n",
            "torch.Size([3, 2])\n"
          ]
        }
      ]
    },
    {
      "cell_type": "code",
      "metadata": {
        "id": "7dll2iKObNEN",
        "colab": {
          "base_uri": "https://localhost:8080/"
        },
        "outputId": "db553504-b72e-4b35-869c-2181fdf3b3a4"
      },
      "source": [
        "# 転置行列を返す\n",
        "n = m.t()\n",
        "print(n)\n",
        "print(n.size())"
      ],
      "execution_count": 53,
      "outputs": [
        {
          "output_type": "stream",
          "name": "stdout",
          "text": [
            "tensor([[ 0.9446, -0.4826, -1.2095],\n",
            "        [-1.7339,  0.1075,  0.6240]])\n",
            "torch.Size([2, 3])\n"
          ]
        }
      ]
    },
    {
      "cell_type": "markdown",
      "metadata": {
        "id": "69o4ylzRbfVT"
      },
      "source": [
        "全ての軸の順番を指定して入れ替えることも可能です．"
      ]
    },
    {
      "cell_type": "code",
      "metadata": {
        "id": "qBd1A9IRbqkp",
        "colab": {
          "base_uri": "https://localhost:8080/"
        },
        "outputId": "3545dcc0-1c41-4ff2-de8d-0323e2b8b96f"
      },
      "source": [
        "# 軸の順列を指定して入れ替える\n",
        "y = x.permute(2, 0, 1)\n",
        "print(y)\n",
        "print(y.size())"
      ],
      "execution_count": 54,
      "outputs": [
        {
          "output_type": "stream",
          "name": "stdout",
          "text": [
            "tensor([[[-1.5725, -0.2702,  0.6757],\n",
            "         [-0.5003,  1.7739, -0.8487]],\n",
            "\n",
            "        [[ 0.3219,  0.3092, -1.3511],\n",
            "         [ 0.2482, -0.1491,  0.6569]],\n",
            "\n",
            "        [[-1.1844, -0.6425,  0.4156],\n",
            "         [ 0.5562, -0.2732, -1.6491]],\n",
            "\n",
            "        [[ 0.7423, -0.2409, -1.8324],\n",
            "         [ 1.0962, -1.1350,  2.0404]]])\n",
            "torch.Size([4, 2, 3])\n"
          ]
        }
      ]
    },
    {
      "cell_type": "markdown",
      "metadata": {
        "id": "kF5e39UMb2Gq"
      },
      "source": [
        "**メモリの整列**　上記にあげたテンソルの整形や軸の入れ替えは任意の操作数重ね合わせることが可能です．しかしながら，軸を入れ替えると表記上のテンソルと内部で確保されているメモリの並びが不整合となる場合があり，その後にviewメソッドを用いると失敗します．"
      ]
    },
    {
      "cell_type": "code",
      "metadata": {
        "id": "LwsVYwZ2cPTZ",
        "colab": {
          "base_uri": "https://localhost:8080/",
          "height": 252
        },
        "outputId": "975ecc55-bcc8-480f-e64c-9d4f576aa1a8"
      },
      "source": [
        "# view size is not compatible with input tensor's size and stride... というエラーが生じる\n",
        "# 今回はこの stride の部分に問題がある\n",
        "z = x.transpose(2, 0).view(2, 2, 6)"
      ],
      "execution_count": 55,
      "outputs": [
        {
          "output_type": "error",
          "ename": "RuntimeError",
          "evalue": "ignored",
          "traceback": [
            "\u001b[0;31m---------------------------------------------------------------------------\u001b[0m",
            "\u001b[0;31mRuntimeError\u001b[0m                              Traceback (most recent call last)",
            "\u001b[0;32m<ipython-input-55-fe850872dee6>\u001b[0m in \u001b[0;36m<cell line: 3>\u001b[0;34m()\u001b[0m\n\u001b[1;32m      1\u001b[0m \u001b[0;31m# view size is not compatible with input tensor's size and stride... というエラーが生じる\u001b[0m\u001b[0;34m\u001b[0m\u001b[0;34m\u001b[0m\u001b[0m\n\u001b[1;32m      2\u001b[0m \u001b[0;31m# 今回はこの stride の部分に問題がある\u001b[0m\u001b[0;34m\u001b[0m\u001b[0;34m\u001b[0m\u001b[0m\n\u001b[0;32m----> 3\u001b[0;31m \u001b[0mz\u001b[0m \u001b[0;34m=\u001b[0m \u001b[0mx\u001b[0m\u001b[0;34m.\u001b[0m\u001b[0mtranspose\u001b[0m\u001b[0;34m(\u001b[0m\u001b[0;36m2\u001b[0m\u001b[0;34m,\u001b[0m \u001b[0;36m0\u001b[0m\u001b[0;34m)\u001b[0m\u001b[0;34m.\u001b[0m\u001b[0mview\u001b[0m\u001b[0;34m(\u001b[0m\u001b[0;36m2\u001b[0m\u001b[0;34m,\u001b[0m \u001b[0;36m2\u001b[0m\u001b[0;34m,\u001b[0m \u001b[0;36m6\u001b[0m\u001b[0;34m)\u001b[0m\u001b[0;34m\u001b[0m\u001b[0;34m\u001b[0m\u001b[0m\n\u001b[0m",
            "\u001b[0;31mRuntimeError\u001b[0m: view size is not compatible with input tensor's size and stride (at least one dimension spans across two contiguous subspaces). Use .reshape(...) instead."
          ]
        }
      ]
    },
    {
      "cell_type": "markdown",
      "metadata": {
        "id": "ZMy-TTS-cgjO"
      },
      "source": [
        "このようなエラーが発生した場合は，一度メモリの並びを整列させる操作を噛ませることで解消可能です．"
      ]
    },
    {
      "cell_type": "code",
      "metadata": {
        "id": "uA33CcQ1cgHX",
        "colab": {
          "base_uri": "https://localhost:8080/"
        },
        "outputId": "4aa79aa5-95d9-4192-dc52-e5e0254b93aa"
      },
      "source": [
        "z = x.transpose(2, 0).contiguous().view(2, 2, 6)\n",
        "print(z)"
      ],
      "execution_count": 56,
      "outputs": [
        {
          "output_type": "stream",
          "name": "stdout",
          "text": [
            "tensor([[[-1.5725, -0.5003, -0.2702,  1.7739,  0.6757, -0.8487],\n",
            "         [ 0.3219,  0.2482,  0.3092, -0.1491, -1.3511,  0.6569]],\n",
            "\n",
            "        [[-1.1844,  0.5562, -0.6425, -0.2732,  0.4156, -1.6491],\n",
            "         [ 0.7423,  1.0962, -0.2409, -1.1350, -1.8324,  2.0404]]])\n"
          ]
        }
      ]
    },
    {
      "cell_type": "markdown",
      "metadata": {
        "id": "ZuOCj42PWK7I"
      },
      "source": [
        "----\n",
        "**in-placeな演算**　\n",
        "通常の演算では，出力テンソルとして新たなメモリ領域が確保されています．しかしながら，メモリの使用量を抑制したい場合等に，入力テンソルの要素をそのまま置換するように演算を行うことができます．\n",
        "\n",
        "*   加算：add_\n",
        "*   減算：sub_\n",
        "*   乗算：mul_\n",
        "*   除算：div_\n",
        "*   転置：t_\n",
        "*   軸の入れ替え：transpose_\n",
        "*   値のコピー：copy_\n",
        "\n",
        "等が用意されています．\n",
        "\n"
      ]
    },
    {
      "cell_type": "code",
      "metadata": {
        "id": "DZelty_IQwQc",
        "colab": {
          "base_uri": "https://localhost:8080/"
        },
        "outputId": "0866d741-932e-4366-e70d-74177678f16f"
      },
      "source": [
        "# テンソルの準備\n",
        "x = torch.randn(1, 2)\n",
        "y = torch.randn(1, 2)\n",
        "print(x)\n",
        "print(y)"
      ],
      "execution_count": 57,
      "outputs": [
        {
          "output_type": "stream",
          "name": "stdout",
          "text": [
            "tensor([[0.3735, 1.0648]])\n",
            "tensor([[-0.6685,  0.5345]])\n"
          ]
        }
      ]
    },
    {
      "cell_type": "code",
      "metadata": {
        "id": "5VXQOEZVWp8S",
        "colab": {
          "base_uri": "https://localhost:8080/"
        },
        "outputId": "a978277f-bab3-47db-b9a1-e0da1e0d140b"
      },
      "source": [
        "# xにyをin-placeに加算する\n",
        "x.add_(y)\n",
        "# x自体の値が演算結果で書き換わる\n",
        "print(x)"
      ],
      "execution_count": 58,
      "outputs": [
        {
          "output_type": "stream",
          "name": "stdout",
          "text": [
            "tensor([[-0.2950,  1.5993]])\n"
          ]
        }
      ]
    },
    {
      "cell_type": "code",
      "metadata": {
        "id": "asGbBbkNWyCB",
        "colab": {
          "base_uri": "https://localhost:8080/"
        },
        "outputId": "506ee8ab-f9f3-40aa-8f8c-d375f28b0f53"
      },
      "source": [
        "# xをin-placeに転置する\n",
        "x.t_()\n",
        "print(x)"
      ],
      "execution_count": 59,
      "outputs": [
        {
          "output_type": "stream",
          "name": "stdout",
          "text": [
            "tensor([[-0.2950],\n",
            "        [ 1.5993]])\n"
          ]
        }
      ]
    },
    {
      "cell_type": "code",
      "metadata": {
        "id": "Wh3z60yzXVYq",
        "colab": {
          "base_uri": "https://localhost:8080/"
        },
        "outputId": "4810dadb-3f01-45b9-e9c0-85f9ea080d82"
      },
      "source": [
        "# xの軸をin-placeに入れ替える\n",
        "x.transpose_(0,1)\n",
        "print(x)"
      ],
      "execution_count": 60,
      "outputs": [
        {
          "output_type": "stream",
          "name": "stdout",
          "text": [
            "tensor([[-0.2950,  1.5993]])\n"
          ]
        }
      ]
    },
    {
      "cell_type": "code",
      "metadata": {
        "id": "iABtahP4c_k9",
        "colab": {
          "base_uri": "https://localhost:8080/"
        },
        "outputId": "07697734-60d8-405b-cdc9-54669da983ea"
      },
      "source": [
        "# xにyの値をコピーする\n",
        "x.copy_(y)\n",
        "print(x)"
      ],
      "execution_count": 61,
      "outputs": [
        {
          "output_type": "stream",
          "name": "stdout",
          "text": [
            "tensor([[-0.6685,  0.5345]])\n"
          ]
        }
      ]
    },
    {
      "cell_type": "markdown",
      "metadata": {
        "id": "2L2zAYJAUShp"
      },
      "source": [
        "ただし，後続のノートブックで説明する自動微分機能を用いる際は，基本的にin-placeな演算を行うことはできないことに留意してください．"
      ]
    },
    {
      "cell_type": "markdown",
      "metadata": {
        "id": "-N2eZQwbf4aK"
      },
      "source": [
        "## GPUの利用方法\n",
        "----\n",
        "**生成済のテンソルをGPUメモリに載せる**ことができます．複数枚のGPUが搭載されたサーバ上で実行する場合はGPU番号を指定することが推奨されますが，Google Colaboratory は1枚のみの搭載のため以下のようにして簡単に既存テンソルをGPU上のテンソル（CUDA Tensor）に変換することができます．"
      ]
    },
    {
      "cell_type": "code",
      "metadata": {
        "id": "7qw06AmifnuN",
        "colab": {
          "base_uri": "https://localhost:8080/"
        },
        "outputId": "cc8d0788-95a0-4b10-97bc-536df7ae83a9"
      },
      "source": [
        "x_cuda = x.cuda()\n",
        "print(x_cuda)"
      ],
      "execution_count": 62,
      "outputs": [
        {
          "output_type": "stream",
          "name": "stdout",
          "text": [
            "tensor([[-0.6685,  0.5345]], device='cuda:0')\n"
          ]
        }
      ]
    },
    {
      "cell_type": "markdown",
      "metadata": {
        "id": "t_XfXOTgg9uw"
      },
      "source": [
        "テンソルの生成時にdeviceを指定することで，**初めからGPU上のメモリを確保してテンソルを生成する**ことも可能です．"
      ]
    },
    {
      "cell_type": "code",
      "metadata": {
        "id": "gvGUsFbBg476",
        "colab": {
          "base_uri": "https://localhost:8080/"
        },
        "outputId": "0d203f46-031b-45af-9b48-f413e57cad4e"
      },
      "source": [
        "x = torch.randn(1, 2, device=\"cuda:0\")\n",
        "print(x)"
      ],
      "execution_count": 63,
      "outputs": [
        {
          "output_type": "stream",
          "name": "stdout",
          "text": [
            "tensor([[-0.3361,  2.4687]], device='cuda:0')\n"
          ]
        }
      ]
    },
    {
      "cell_type": "markdown",
      "metadata": {
        "id": "Xz4JrdqShL8L"
      },
      "source": [
        "存在しないGPU番号を指定するとエラーが発生します．"
      ]
    },
    {
      "cell_type": "code",
      "metadata": {
        "id": "UI5MUyOnhIhV"
      },
      "source": [
        "x = torch.randn(1, 2, device=\"cuda:1\")"
      ],
      "execution_count": 65,
      "outputs": []
    },
    {
      "cell_type": "markdown",
      "metadata": {
        "id": "HzEZssbAhnnB"
      },
      "source": [
        "同じデバイス上のテンソルを用いて，先に紹介したような演算を同様に行うことが可能です．\n",
        "ただし，異なるデバイス同士（CPUとGPU，または異なる番号のGPU同士）での演算はできません．\n",
        "\n",
        "**CPUへの変換**　GPU上のテンソルは，同様に簡単にCPU上に移行することが可能です．"
      ]
    },
    {
      "cell_type": "code",
      "metadata": {
        "id": "ivZwMT6-hkPJ",
        "colab": {
          "base_uri": "https://localhost:8080/"
        },
        "outputId": "09b5f074-f67c-4b3f-dc61-9bbceb857918"
      },
      "source": [
        "# CPUへ\n",
        "x_cpu = x_cuda.cpu()\n",
        "print(x_cpu)\n",
        "print(x_cpu.device)"
      ],
      "execution_count": 66,
      "outputs": [
        {
          "output_type": "stream",
          "name": "stdout",
          "text": [
            "tensor([[-0.6685,  0.5345]])\n",
            "cpu\n"
          ]
        }
      ]
    },
    {
      "cell_type": "markdown",
      "metadata": {
        "id": "kUQdu6TwPNoz"
      },
      "source": [
        "**統一的な記法**　PyTorchが扱うテンソルは，デバイス名を文字列で指定することで簡単にデバイス間を移動させることができます．"
      ]
    },
    {
      "cell_type": "code",
      "metadata": {
        "id": "gsH6AAVwPdly",
        "colab": {
          "base_uri": "https://localhost:8080/"
        },
        "outputId": "f341d4a6-fb47-4ab3-a679-53a7c1ae5d0e"
      },
      "source": [
        "# CPU上で生成\n",
        "x = torch.randn(2, 2)\n",
        "print(x.device)"
      ],
      "execution_count": 67,
      "outputs": [
        {
          "output_type": "stream",
          "name": "stdout",
          "text": [
            "cpu\n"
          ]
        }
      ]
    },
    {
      "cell_type": "code",
      "metadata": {
        "id": "lQ2ijgFlPsn-",
        "colab": {
          "base_uri": "https://localhost:8080/"
        },
        "outputId": "76eaeb3a-68dc-4080-fa9a-c0e2bacbaaec"
      },
      "source": [
        "# 0番GPUへ\n",
        "x_cuda0 = x.to(\"cuda:0\")\n",
        "print(x_cuda0.device)"
      ],
      "execution_count": 68,
      "outputs": [
        {
          "output_type": "stream",
          "name": "stdout",
          "text": [
            "cuda:0\n"
          ]
        }
      ]
    },
    {
      "cell_type": "code",
      "metadata": {
        "id": "WEDadbejP9Gl",
        "colab": {
          "base_uri": "https://localhost:8080/"
        },
        "outputId": "58bccf1a-4c3f-4b68-f177-d722839b77e9"
      },
      "source": [
        "# CPUへ\n",
        "x_cpu = x_cuda0.to(\"cpu\")\n",
        "print(x_cpu.device)"
      ],
      "execution_count": 69,
      "outputs": [
        {
          "output_type": "stream",
          "name": "stdout",
          "text": [
            "cpu\n"
          ]
        }
      ]
    },
    {
      "cell_type": "markdown",
      "metadata": {
        "id": "NaVta6gPQErw"
      },
      "source": [
        "さらに，既存のテンソルを引数として，同じデバイス・同じ数値型への変換を行うことも可能です．"
      ]
    },
    {
      "cell_type": "code",
      "metadata": {
        "id": "4Uhmkz3cQNDr",
        "colab": {
          "base_uri": "https://localhost:8080/"
        },
        "outputId": "66967039-c0f8-41ef-f7f2-93d74adb0db3"
      },
      "source": [
        "# 0番GPUにdouble型のテンソルを生成\n",
        "d_cuda0 = torch.randn(2, 2, dtype=torch.double, device=\"cuda:0\")\n",
        "print(d_cuda0.device)\n",
        "print(d_cuda0.dtype)"
      ],
      "execution_count": 70,
      "outputs": [
        {
          "output_type": "stream",
          "name": "stdout",
          "text": [
            "cuda:0\n",
            "torch.float64\n"
          ]
        }
      ]
    },
    {
      "cell_type": "code",
      "metadata": {
        "id": "v50HAb5RQkBp",
        "colab": {
          "base_uri": "https://localhost:8080/"
        },
        "outputId": "573a1bc3-6a94-4434-be45-e6fb4076466e"
      },
      "source": [
        "# xをd_cuda0と同じデバイス・数値型へ変換する\n",
        "x_d = x.to(d_cuda0)\n",
        "print(x_d.device)\n",
        "print(x_d.dtype)"
      ],
      "execution_count": 71,
      "outputs": [
        {
          "output_type": "stream",
          "name": "stdout",
          "text": [
            "cuda:0\n",
            "torch.float64\n"
          ]
        }
      ]
    },
    {
      "cell_type": "markdown",
      "metadata": {
        "id": "eE1vaARZikTO"
      },
      "source": [
        "**他の配列オブジェクトへの変換**　CPU上のテンソルに限り，numpy.ndarrayやリストなどへ変換することができます．"
      ]
    },
    {
      "cell_type": "code",
      "metadata": {
        "id": "rE6mf3FwitO4",
        "colab": {
          "base_uri": "https://localhost:8080/"
        },
        "outputId": "37256917-4042-417a-dfd1-b3f0f66ea722"
      },
      "source": [
        "# numpy.ndarrayに変換\n",
        "x_ndarray = x_cpu.numpy()\n",
        "print(x_ndarray)"
      ],
      "execution_count": 72,
      "outputs": [
        {
          "output_type": "stream",
          "name": "stdout",
          "text": [
            "[[ 1.8329135   0.09140043]\n",
            " [ 2.650712   -0.62957746]]\n"
          ]
        }
      ]
    },
    {
      "cell_type": "code",
      "metadata": {
        "id": "kTmoeGVki30A",
        "colab": {
          "base_uri": "https://localhost:8080/"
        },
        "outputId": "a6e26c82-c7d1-4a24-9380-626fa70fb98f"
      },
      "source": [
        "# リストに変換\n",
        "x_list = x_cpu.tolist()\n",
        "print(x_list)"
      ],
      "execution_count": 73,
      "outputs": [
        {
          "output_type": "stream",
          "name": "stdout",
          "text": [
            "[[1.8329135179519653, 0.09140042960643768], [2.650712013244629, -0.6295774579048157]]\n"
          ]
        }
      ]
    },
    {
      "cell_type": "code",
      "metadata": {
        "id": "mJXKok8QKn04",
        "colab": {
          "base_uri": "https://localhost:8080/"
        },
        "outputId": "7099648d-012b-4e07-b8e0-1d44a1fbc8b9"
      },
      "source": [
        "x = np.random.randn(3,2)\n",
        "y = np.random.randn(3,2)\n",
        "print(x)\n",
        "print(y)\n",
        "z=(x - y)**2\n",
        "print(z)\n",
        "s = np.sum(z, axis=1)\n",
        "print(s)\n",
        "m = np.mean(s)\n",
        "print(m)"
      ],
      "execution_count": 74,
      "outputs": [
        {
          "output_type": "stream",
          "name": "stdout",
          "text": [
            "[[-1.01432509 -0.51834784]\n",
            " [ 0.36264149  0.71662493]\n",
            " [-0.44086812  0.59520184]]\n",
            "[[-0.55094914 -0.03862722]\n",
            " [-0.91697527 -0.54245321]\n",
            " [ 0.08843144  0.23879624]]\n",
            "[[0.21471727 0.23013187]\n",
            " [1.63741905 1.58527775]\n",
            " [0.28015803 0.12702495]]\n",
            "[0.44484914 3.2226968  0.40718298]\n",
            "1.3582429728085128\n"
          ]
        }
      ]
    },
    {
      "cell_type": "markdown",
      "metadata": {
        "id": "p4o4KZ_znXFQ"
      },
      "source": [
        "# 課題\n",
        "<h4>\n",
        "平均二乗誤差関数の実装\n",
        "</h4>\n",
        "\n",
        " \n",
        "入力：$\\boldsymbol{X}=(\\boldsymbol{x}_1,\\boldsymbol{x}_2,\\cdots\\boldsymbol{x}_{N})^{T}\\in\\mathbb{R}^{N\\times M},　\\boldsymbol{Y}=(\\boldsymbol{y}_1,\\boldsymbol{y}_2,\\cdots\\boldsymbol{y}_{N})^{T}\\in\\mathbb{R}^{N\\times M}$\n",
        "      \n",
        "出力：$z\\in\\mathbb{R}, z=L(\\boldsymbol{X}, \\boldsymbol{Y}~)$\n",
        "    \n",
        "    \n",
        "\n",
        "- 平均二乗誤差 :\n",
        "$$ \n",
        "L(\\boldsymbol{X},\\boldsymbol{Y}~) = \\frac{1}{N}\\sum^N_i \\|\\boldsymbol{x}_i-\\boldsymbol{y}_i\\|_2^2\\\\\n",
        "$$\n",
        "Numpyのndarrayを受け取り，GPU上で平均二乗誤差を計算して，GPU上のメモリに乗ったテンソルを出力する関数を実装してみましょう\n"
      ]
    },
    {
      "cell_type": "code",
      "metadata": {
        "id": "PFWqps8NsO6K"
      },
      "source": [
        "def MSE(x, y):\n",
        "  # TODO\n",
        "  x = torch.tensor(x).cuda()\n",
        "  y = torch.tensor(y).cuda()\n",
        "  z = torch.mean(torch.sum((x-y)**2, dim=1))\n",
        "\n",
        "  return z"
      ],
      "execution_count": 76,
      "outputs": []
    },
    {
      "cell_type": "code",
      "metadata": {
        "id": "mScj3R0c965I"
      },
      "source": [
        "from google.colab import drive # driveを接続\n",
        "drive.mount('/content/gdrive')"
      ],
      "execution_count": null,
      "outputs": []
    },
    {
      "cell_type": "code",
      "metadata": {
        "id": "5pKJ9oq--SdT",
        "colab": {
          "base_uri": "https://localhost:8080/"
        },
        "outputId": "e0ab5ce3-f07d-44c5-92ba-755b8fbc99e0"
      },
      "source": [
        "# drive中の課題ファイルのあるディレクトリに移動\n",
        "%cd /content/drive/MyDrive/__FrontierAI-I/FAI20230606/data\n",
        "from pytorchtest import *"
      ],
      "execution_count": 75,
      "outputs": [
        {
          "output_type": "stream",
          "name": "stdout",
          "text": [
            "/content/drive/MyDrive/__FrontierAI-I/FAI20230606/data\n"
          ]
        }
      ]
    },
    {
      "cell_type": "code",
      "metadata": {
        "id": "oqtAzquusb8e",
        "colab": {
          "base_uri": "https://localhost:8080/"
        },
        "outputId": "c4b1c889-6bbb-4ef7-b425-19ad174d240d"
      },
      "source": [
        "test_MSE(MSE)"
      ],
      "execution_count": 77,
      "outputs": [
        {
          "output_type": "stream",
          "name": "stdout",
          "text": [
            "OK\n"
          ]
        }
      ]
    },
    {
      "cell_type": "markdown",
      "metadata": {
        "id": "bEcerwNzsk-N"
      },
      "source": [
        "OKと出力されれば完成です"
      ]
    },
    {
      "cell_type": "markdown",
      "metadata": {
        "id": "DN_K12HWiGru"
      },
      "source": [
        "最終項で紹介したGPU上での演算は極めて重要であり，今日では専らGPUを用いて演算することが主流となっています．\n",
        "というのも，一般の配列操作や行列演算等はGPUを用いることで高速に並列計算可能なためです．このような装置の恩恵もあって今日の深層学習モデルは現実的な時間で学習させることが可能となっています．\n",
        "\n",
        "----\n",
        "お疲れ様でした．本稿は以上で終了いたします．\n",
        "以降のハンズオンでは、深層学習において重要な概念のひとつである自動微分機能について解説したのち，具体的なデータセットとタスクを通してより深層学習モデルに関する知見を深めていきます．"
      ]
    }
  ]
}